{
  "nbformat": 4,
  "nbformat_minor": 0,
  "metadata": {
    "colab": {
      "provenance": [],
      "gpuType": "A100",
      "machine_shape": "hm",
      "mount_file_id": "1TNxylmbHcDFLBCNVTBSdZEJw8I7Qj4tJ",
      "authorship_tag": "ABX9TyOSrVpjzC7TdjN8EA41hWnX",
      "include_colab_link": true
    },
    "kernelspec": {
      "name": "python3",
      "display_name": "Python 3"
    },
    "language_info": {
      "name": "python"
    },
    "accelerator": "GPU"
  },
  "cells": [
    {
      "cell_type": "markdown",
      "metadata": {
        "id": "view-in-github",
        "colab_type": "text"
      },
      "source": [
        "<a href=\"https://colab.research.google.com/github/aumkeshchaudhary/AIRL_IISc/blob/main/q1.ipynb\" target=\"_parent\"><img src=\"https://colab.research.google.com/assets/colab-badge.svg\" alt=\"Open In Colab\"/></a>"
      ]
    },
    {
      "cell_type": "code",
      "execution_count": 1,
      "metadata": {
        "id": "G_fRYz1a7jXK"
      },
      "outputs": [],
      "source": [
        "# installs & imports\n",
        "!pip install -q torch torchvision tqdm einops\n",
        "\n",
        "import math, os, random, time\n",
        "from pathlib import Path\n",
        "from tqdm import tqdm\n",
        "\n",
        "import torch\n",
        "import torch.nn as nn\n",
        "import torch.nn.functional as F\n",
        "from torch.optim import AdamW\n",
        "from torch.utils.data import DataLoader\n",
        "from torchvision import transforms, datasets\n",
        "from torchvision.transforms import AutoAugmentPolicy\n",
        "\n",
        "from einops import rearrange"
      ]
    },
    {
      "cell_type": "code",
      "source": [
        "# config\n",
        "device = torch.device(\"cuda\" if torch.cuda.is_available() else \"cpu\")\n",
        "print(\"device:\", device)\n",
        "\n",
        "cfg = {\n",
        "    \"image_size\": 32,\n",
        "    \"patch_size\": 4,   # 4x4 patches -> 8x8 patches would be 4, 16x16 would be 16 but CIFAR small\n",
        "    \"in_channels\": 3,\n",
        "    \"num_classes\": 10,\n",
        "    \"emb_dim\": 192,    # width\n",
        "    \"num_heads\": 6,\n",
        "    \"depth\": 8,        # transformer blocks\n",
        "    \"mlp_ratio\": 4.0,\n",
        "    \"drop\": 0.1,\n",
        "    \"batch_size\": 128,\n",
        "    \"epochs\": 300,\n",
        "    \"lr\": 3e-4,\n",
        "    \"weight_decay\": 0.05,\n",
        "    \"warmup_epochs\": 5,\n",
        "    \"seed\": 42\n",
        "}"
      ],
      "metadata": {
        "colab": {
          "base_uri": "https://localhost:8080/"
        },
        "id": "y0OmwlJa7zhA",
        "outputId": "b8e65573-5c50-46d5-a52f-02a484d44c6c"
      },
      "execution_count": 2,
      "outputs": [
        {
          "output_type": "stream",
          "name": "stdout",
          "text": [
            "device: cuda\n"
          ]
        }
      ]
    },
    {
      "cell_type": "code",
      "source": [
        "# reproducibility\n",
        "torch.manual_seed(cfg[\"seed\"])\n",
        "random.seed(cfg[\"seed\"])"
      ],
      "metadata": {
        "id": "OUI9VSPR74Nx"
      },
      "execution_count": 3,
      "outputs": []
    },
    {
      "cell_type": "code",
      "source": [
        "# data loaders (augmentations)\n",
        "mean = (0.4914, 0.4822, 0.4465)\n",
        "std  = (0.247, 0.243, 0.261)\n",
        "\n",
        "train_transform = transforms.Compose([\n",
        "    transforms.RandomCrop(32, padding=4),\n",
        "    transforms.RandomHorizontalFlip(),\n",
        "    transforms.AutoAugment(policy=AutoAugmentPolicy.CIFAR10),\n",
        "    transforms.ToTensor(),\n",
        "    transforms.Normalize(mean, std),\n",
        "])\n",
        "\n",
        "test_transform = transforms.Compose([\n",
        "    transforms.ToTensor(),\n",
        "    transforms.Normalize(mean, std),\n",
        "])\n",
        "\n",
        "train_ds = datasets.CIFAR10(root=\"data\", train=True, download=True, transform=train_transform)\n",
        "test_ds  = datasets.CIFAR10(root=\"data\", train=False, download=True, transform=test_transform)\n",
        "\n",
        "train_loader = DataLoader(train_ds, batch_size=cfg[\"batch_size\"], shuffle=True, num_workers=2, pin_memory=True)\n",
        "test_loader  = DataLoader(test_ds, batch_size=256, shuffle=False, num_workers=2, pin_memory=True)"
      ],
      "metadata": {
        "id": "IBtLpetG77N-",
        "colab": {
          "base_uri": "https://localhost:8080/"
        },
        "outputId": "ee46afda-55d7-4af2-f3d4-cbc2434c1816"
      },
      "execution_count": 4,
      "outputs": [
        {
          "output_type": "stream",
          "name": "stderr",
          "text": [
            "100%|██████████| 170M/170M [00:13<00:00, 12.3MB/s]\n"
          ]
        }
      ]
    },
    {
      "cell_type": "code",
      "source": [
        "# ViT model implementation\n",
        "class PatchEmbed(nn.Module):\n",
        "    def __init__(self, img_size=32, patch_size=4, in_chans=3, embed_dim=192):\n",
        "        super().__init__()\n",
        "        assert img_size % patch_size == 0\n",
        "        self.patch_size = patch_size\n",
        "        self.n_patches = (img_size // patch_size) ** 2\n",
        "        self.proj = nn.Conv2d(in_chans, embed_dim, kernel_size=patch_size, stride=patch_size)\n",
        "\n",
        "    def forward(self, x):\n",
        "        # x: (B, C, H, W)\n",
        "        x = self.proj(x)                # (B, E, H/ps, W/ps)\n",
        "        x = x.flatten(2)                # (B, E, N)\n",
        "        x = x.transpose(1, 2)           # (B, N, E)\n",
        "        return x\n",
        "\n",
        "class MLP(nn.Module):\n",
        "    def __init__(self, in_features, hidden_features=None, drop=0.):\n",
        "        super().__init__()\n",
        "        hidden_features = hidden_features or in_features\n",
        "        self.fc1 = nn.Linear(in_features, hidden_features)\n",
        "        self.act = nn.GELU()\n",
        "        self.fc2 = nn.Linear(hidden_features, in_features)\n",
        "        self.drop = nn.Dropout(drop)\n",
        "    def forward(self, x):\n",
        "        x = self.fc1(x)\n",
        "        x = self.act(x)\n",
        "        x = self.drop(x)\n",
        "        x = self.fc2(x)\n",
        "        x = self.drop(x)\n",
        "        return x\n",
        "\n",
        "class Attention(nn.Module):\n",
        "    def __init__(self, dim, num_heads=8, qkv_bias=False, attn_drop=0., proj_drop=0.):\n",
        "        super().__init__()\n",
        "        self.num_heads = num_heads\n",
        "        head_dim = dim // num_heads\n",
        "        self.scale = head_dim ** -0.5\n",
        "\n",
        "        self.qkv = nn.Linear(dim, dim*3, bias=qkv_bias)\n",
        "        self.attn_drop = nn.Dropout(attn_drop)\n",
        "        self.proj = nn.Linear(dim, dim)\n",
        "        self.proj_drop = nn.Dropout(proj_drop)\n",
        "\n",
        "    def forward(self, x):\n",
        "        B, N, C = x.shape\n",
        "        qkv = self.qkv(x).reshape(B, N, 3, self.num_heads, C // self.num_heads).permute(2,0,3,1,4)\n",
        "        q, k, v = qkv[0], qkv[1], qkv[2]   # each: (B, heads, N, head_dim)\n",
        "        attn = (q @ k.transpose(-2, -1)) * self.scale\n",
        "        attn = attn.softmax(dim=-1)\n",
        "        attn = self.attn_drop(attn)\n",
        "        x = (attn @ v).transpose(1,2).reshape(B, N, C)\n",
        "        x = self.proj(x)\n",
        "        x = self.proj_drop(x)\n",
        "        return x\n",
        "\n",
        "class Block(nn.Module):\n",
        "    def __init__(self, dim, num_heads, mlp_ratio=4., drop=0., attn_drop=0., drop_path=0.):\n",
        "        super().__init__()\n",
        "        self.norm1 = nn.LayerNorm(dim)\n",
        "        self.attn = Attention(dim, num_heads=num_heads, attn_drop=attn_drop, proj_drop=drop)\n",
        "        self.drop_path = nn.Identity() if drop_path == 0. else _StochasticDepth(drop_path)\n",
        "        self.norm2 = nn.LayerNorm(dim)\n",
        "        self.mlp = MLP(dim, int(dim*mlp_ratio), drop=drop)\n",
        "\n",
        "    def forward(self, x):\n",
        "        x = x + self.drop_path(self.attn(self.norm1(x)))\n",
        "        x = x + self.drop_path(self.mlp(self.norm2(x)))\n",
        "        return x\n",
        "\n",
        "# Simple implementation of stochastic depth\n",
        "class _StochasticDepth(nn.Module):\n",
        "    def __init__(self, p):\n",
        "        super().__init__()\n",
        "        self.p = p\n",
        "    def forward(self, x):\n",
        "        if not self.training or self.p == 0.:\n",
        "            return x\n",
        "        keep = torch.rand(x.shape[0], 1, 1, device=x.device) >= self.p\n",
        "        return x * keep / (1 - self.p)\n",
        "\n",
        "class ViT(nn.Module):\n",
        "    def __init__(self, cfg):\n",
        "        super().__init__()\n",
        "        img_size, patch_size = cfg[\"image_size\"], cfg[\"patch_size\"]\n",
        "        self.patch_embed = PatchEmbed(img_size, patch_size, cfg[\"in_channels\"], cfg[\"emb_dim\"])\n",
        "        n_patches = self.patch_embed.n_patches\n",
        "\n",
        "        self.cls_token = nn.Parameter(torch.zeros(1,1,cfg[\"emb_dim\"]))\n",
        "        self.pos_embed = nn.Parameter(torch.zeros(1, 1 + n_patches, cfg[\"emb_dim\"]))\n",
        "        self.pos_drop = nn.Dropout(p=cfg[\"drop\"])\n",
        "\n",
        "        # transformer blocks\n",
        "        dpr = [x.item() for x in torch.linspace(0, 0.1, cfg[\"depth\"])]  # stochastic depth decay\n",
        "        self.blocks = nn.ModuleList([\n",
        "            Block(cfg[\"emb_dim\"], num_heads=cfg[\"num_heads\"], mlp_ratio=cfg[\"mlp_ratio\"], drop=cfg[\"drop\"], drop_path=dpr[i])\n",
        "            for i in range(cfg[\"depth\"])\n",
        "        ])\n",
        "        self.norm = nn.LayerNorm(cfg[\"emb_dim\"])\n",
        "        self.head = nn.Linear(cfg[\"emb_dim\"], cfg[\"num_classes\"])\n",
        "\n",
        "        # init\n",
        "        nn.init.trunc_normal_(self.pos_embed, std=.02)\n",
        "        nn.init.trunc_normal_(self.cls_token, std=.02)\n",
        "        self.apply(self._init_weights)\n",
        "\n",
        "    def _init_weights(self, m):\n",
        "        if isinstance(m, nn.Linear):\n",
        "            nn.init.xavier_uniform_(m.weight)\n",
        "            if m.bias is not None:\n",
        "                nn.init.zeros_(m.bias)\n",
        "        elif isinstance(m, nn.LayerNorm):\n",
        "            nn.init.zeros_(m.bias)\n",
        "            nn.init.ones_(m.weight)\n",
        "\n",
        "    def forward(self, x):\n",
        "        B = x.shape[0]\n",
        "        x = self.patch_embed(x)             # (B, N, E)\n",
        "        cls_tokens = self.cls_token.expand(B, -1, -1)\n",
        "        x = torch.cat((cls_tokens, x), dim=1)   # (B, 1+N, E)\n",
        "        x = x + self.pos_embed\n",
        "        x = self.pos_drop(x)\n",
        "\n",
        "        for blk in self.blocks:\n",
        "            x = blk(x)\n",
        "\n",
        "        x = self.norm(x)\n",
        "        cls = x[:, 0]\n",
        "        out = self.head(cls)\n",
        "        return out\n"
      ],
      "metadata": {
        "id": "h7D9uEXT7-fx"
      },
      "execution_count": 5,
      "outputs": []
    },
    {
      "cell_type": "code",
      "source": [
        "# create model, optimizer, scheduler, loss\n",
        "model = ViT(cfg).to(device)\n",
        "\n",
        "# optimizer + scheduler with warmup cosine lr\n",
        "optimizer = AdamW(model.parameters(), lr=cfg[\"lr\"], weight_decay=cfg[\"weight_decay\"])\n",
        "\n",
        "# Simple cosine scheduler with warmup implemented manually\n",
        "def get_lr(epoch, total_epochs, base_lr, warmup_epochs):\n",
        "    if epoch < warmup_epochs:\n",
        "        return base_lr * (epoch + 1) / warmup_epochs\n",
        "    else:\n",
        "        # cosine decay\n",
        "        t = (epoch - warmup_epochs) / (total_epochs - warmup_epochs)\n",
        "        return base_lr * 0.5 * (1.0 + math.cos(math.pi * t))\n",
        "\n",
        "criterion = nn.CrossEntropyLoss()"
      ],
      "metadata": {
        "id": "4EYVUjwm8FT6"
      },
      "execution_count": 6,
      "outputs": []
    },
    {
      "cell_type": "code",
      "source": [
        "# train & eval loops\n",
        "def train_one_epoch(model, loader, optimizer, epoch):\n",
        "    model.train()\n",
        "    running_loss = 0.0\n",
        "    total = 0\n",
        "    correct = 0\n",
        "    pbar = tqdm(loader, desc=f\"Train Epoch {epoch}\")\n",
        "    for images, targets in pbar:\n",
        "        images, targets = images.to(device), targets.to(device)\n",
        "        optimizer.zero_grad()\n",
        "        outputs = model(images)\n",
        "        loss = criterion(outputs, targets)\n",
        "        loss.backward()\n",
        "        optimizer.step()\n",
        "\n",
        "        running_loss += loss.item() * images.size(0)\n",
        "        _, preds = outputs.max(1)\n",
        "        total += targets.size(0)\n",
        "        correct += preds.eq(targets).sum().item()\n",
        "        pbar.set_postfix(loss=running_loss/total, acc=100.*correct/total)\n",
        "    return running_loss/total, 100.*correct/total\n",
        "\n",
        "@torch.no_grad()\n",
        "def evaluate(model, loader):\n",
        "    model.eval()\n",
        "    total, correct = 0, 0\n",
        "    losses = 0.0\n",
        "    for images, targets in loader:\n",
        "        images, targets = images.to(device), targets.to(device)\n",
        "        outputs = model(images)\n",
        "        loss = criterion(outputs, targets)\n",
        "        losses += loss.item() * images.size(0)\n",
        "        _, preds = outputs.max(1)\n",
        "        total += targets.size(0)\n",
        "        correct += preds.eq(targets).sum().item()\n",
        "    return losses/total, 100.*correct/total"
      ],
      "metadata": {
        "id": "cnzC7o4P8IF1"
      },
      "execution_count": 7,
      "outputs": []
    },
    {
      "cell_type": "code",
      "source": [
        "# main training loop\n",
        "best_acc = 0.0\n",
        "total_epochs = cfg[\"epochs\"]\n",
        "for epoch in range(total_epochs):\n",
        "    lr = get_lr(epoch, total_epochs, cfg[\"lr\"], cfg[\"warmup_epochs\"])\n",
        "    for param_group in optimizer.param_groups:\n",
        "        param_group['lr'] = lr\n",
        "\n",
        "    train_loss, train_acc = train_one_epoch(model, train_loader, optimizer, epoch)\n",
        "    val_loss, val_acc = evaluate(model, test_loader)\n",
        "    print(f\"Epoch {epoch}: train_loss={train_loss:.4f} train_acc={train_acc:.2f} val_loss={val_loss:.4f} val_acc={val_acc:.2f} lr={lr:.6f}\")\n",
        "\n",
        "    if val_acc > best_acc:\n",
        "        best_acc = val_acc\n",
        "        torch.save(model.state_dict(), \"best_vit_cifar10.pt\")\n",
        "        print(\"Saved best model:\", best_acc)\n",
        "\n",
        "print(\"Best test accuracy: %.2f%%\" % (best_acc))"
      ],
      "metadata": {
        "id": "IrdMTvIV8Kaz",
        "colab": {
          "base_uri": "https://localhost:8080/"
        },
        "outputId": "e2b4abe3-1406-4909-da19-f2a0e2805bad"
      },
      "execution_count": 8,
      "outputs": [
        {
          "output_type": "stream",
          "name": "stderr",
          "text": [
            "Train Epoch 0: 100%|██████████| 391/391 [00:20<00:00, 18.86it/s, acc=20.4, loss=2.16]\n"
          ]
        },
        {
          "output_type": "stream",
          "name": "stdout",
          "text": [
            "Epoch 0: train_loss=2.1608 train_acc=20.39 val_loss=1.8286 val_acc=32.28 lr=0.000060\n",
            "Saved best model: 32.28\n"
          ]
        },
        {
          "output_type": "stream",
          "name": "stderr",
          "text": [
            "Train Epoch 1: 100%|██████████| 391/391 [00:20<00:00, 19.37it/s, acc=27.2, loss=1.96]\n"
          ]
        },
        {
          "output_type": "stream",
          "name": "stdout",
          "text": [
            "Epoch 1: train_loss=1.9605 train_acc=27.17 val_loss=1.7375 val_acc=37.21 lr=0.000120\n",
            "Saved best model: 37.21\n"
          ]
        },
        {
          "output_type": "stream",
          "name": "stderr",
          "text": [
            "Train Epoch 2: 100%|██████████| 391/391 [00:20<00:00, 19.31it/s, acc=32.2, loss=1.84]\n"
          ]
        },
        {
          "output_type": "stream",
          "name": "stdout",
          "text": [
            "Epoch 2: train_loss=1.8409 train_acc=32.19 val_loss=1.5922 val_acc=41.75 lr=0.000180\n",
            "Saved best model: 41.75\n"
          ]
        },
        {
          "output_type": "stream",
          "name": "stderr",
          "text": [
            "Train Epoch 3: 100%|██████████| 391/391 [00:20<00:00, 19.45it/s, acc=36.7, loss=1.73]\n"
          ]
        },
        {
          "output_type": "stream",
          "name": "stdout",
          "text": [
            "Epoch 3: train_loss=1.7294 train_acc=36.72 val_loss=1.4877 val_acc=46.34 lr=0.000240\n",
            "Saved best model: 46.34\n"
          ]
        },
        {
          "output_type": "stream",
          "name": "stderr",
          "text": [
            "Train Epoch 4: 100%|██████████| 391/391 [00:20<00:00, 19.20it/s, acc=39.8, loss=1.65]\n"
          ]
        },
        {
          "output_type": "stream",
          "name": "stdout",
          "text": [
            "Epoch 4: train_loss=1.6531 train_acc=39.83 val_loss=1.4149 val_acc=48.31 lr=0.000300\n",
            "Saved best model: 48.31\n"
          ]
        },
        {
          "output_type": "stream",
          "name": "stderr",
          "text": [
            "Train Epoch 5: 100%|██████████| 391/391 [00:20<00:00, 19.22it/s, acc=42.7, loss=1.57]\n"
          ]
        },
        {
          "output_type": "stream",
          "name": "stdout",
          "text": [
            "Epoch 5: train_loss=1.5734 train_acc=42.71 val_loss=1.3171 val_acc=52.25 lr=0.000300\n",
            "Saved best model: 52.25\n"
          ]
        },
        {
          "output_type": "stream",
          "name": "stderr",
          "text": [
            "Train Epoch 6: 100%|██████████| 391/391 [00:20<00:00, 19.01it/s, acc=45, loss=1.52]\n"
          ]
        },
        {
          "output_type": "stream",
          "name": "stdout",
          "text": [
            "Epoch 6: train_loss=1.5163 train_acc=45.04 val_loss=1.1940 val_acc=56.51 lr=0.000300\n",
            "Saved best model: 56.51\n"
          ]
        },
        {
          "output_type": "stream",
          "name": "stderr",
          "text": [
            "Train Epoch 7: 100%|██████████| 391/391 [00:20<00:00, 19.06it/s, acc=46.6, loss=1.47]\n"
          ]
        },
        {
          "output_type": "stream",
          "name": "stdout",
          "text": [
            "Epoch 7: train_loss=1.4740 train_acc=46.57 val_loss=1.1924 val_acc=56.82 lr=0.000300\n",
            "Saved best model: 56.82\n"
          ]
        },
        {
          "output_type": "stream",
          "name": "stderr",
          "text": [
            "Train Epoch 8: 100%|██████████| 391/391 [00:20<00:00, 18.87it/s, acc=48.5, loss=1.43]\n"
          ]
        },
        {
          "output_type": "stream",
          "name": "stdout",
          "text": [
            "Epoch 8: train_loss=1.4349 train_acc=48.50 val_loss=1.1444 val_acc=59.17 lr=0.000300\n",
            "Saved best model: 59.17\n"
          ]
        },
        {
          "output_type": "stream",
          "name": "stderr",
          "text": [
            "Train Epoch 9: 100%|██████████| 391/391 [00:20<00:00, 19.07it/s, acc=49.5, loss=1.4]\n"
          ]
        },
        {
          "output_type": "stream",
          "name": "stdout",
          "text": [
            "Epoch 9: train_loss=1.3988 train_acc=49.45 val_loss=1.1352 val_acc=57.88 lr=0.000300\n"
          ]
        },
        {
          "output_type": "stream",
          "name": "stderr",
          "text": [
            "Train Epoch 10: 100%|██████████| 391/391 [00:20<00:00, 19.15it/s, acc=50.6, loss=1.37]\n"
          ]
        },
        {
          "output_type": "stream",
          "name": "stdout",
          "text": [
            "Epoch 10: train_loss=1.3695 train_acc=50.59 val_loss=1.0648 val_acc=60.67 lr=0.000300\n",
            "Saved best model: 60.67\n"
          ]
        },
        {
          "output_type": "stream",
          "name": "stderr",
          "text": [
            "Train Epoch 11: 100%|██████████| 391/391 [00:20<00:00, 19.49it/s, acc=51.9, loss=1.34]\n"
          ]
        },
        {
          "output_type": "stream",
          "name": "stdout",
          "text": [
            "Epoch 11: train_loss=1.3426 train_acc=51.89 val_loss=1.0523 val_acc=62.07 lr=0.000300\n",
            "Saved best model: 62.07\n"
          ]
        },
        {
          "output_type": "stream",
          "name": "stderr",
          "text": [
            "Train Epoch 12: 100%|██████████| 391/391 [00:20<00:00, 19.23it/s, acc=52.4, loss=1.32]\n"
          ]
        },
        {
          "output_type": "stream",
          "name": "stdout",
          "text": [
            "Epoch 12: train_loss=1.3180 train_acc=52.40 val_loss=0.9949 val_acc=64.21 lr=0.000300\n",
            "Saved best model: 64.21\n"
          ]
        },
        {
          "output_type": "stream",
          "name": "stderr",
          "text": [
            "Train Epoch 13: 100%|██████████| 391/391 [00:20<00:00, 19.01it/s, acc=54, loss=1.29]\n"
          ]
        },
        {
          "output_type": "stream",
          "name": "stdout",
          "text": [
            "Epoch 13: train_loss=1.2871 train_acc=53.97 val_loss=1.0069 val_acc=63.43 lr=0.000299\n"
          ]
        },
        {
          "output_type": "stream",
          "name": "stderr",
          "text": [
            "Train Epoch 14: 100%|██████████| 391/391 [00:20<00:00, 19.14it/s, acc=54.5, loss=1.27]\n"
          ]
        },
        {
          "output_type": "stream",
          "name": "stdout",
          "text": [
            "Epoch 14: train_loss=1.2656 train_acc=54.51 val_loss=0.9458 val_acc=64.99 lr=0.000299\n",
            "Saved best model: 64.99\n"
          ]
        },
        {
          "output_type": "stream",
          "name": "stderr",
          "text": [
            "Train Epoch 15: 100%|██████████| 391/391 [00:20<00:00, 18.93it/s, acc=55.5, loss=1.24]\n"
          ]
        },
        {
          "output_type": "stream",
          "name": "stdout",
          "text": [
            "Epoch 15: train_loss=1.2395 train_acc=55.49 val_loss=0.9268 val_acc=66.78 lr=0.000299\n",
            "Saved best model: 66.78\n"
          ]
        },
        {
          "output_type": "stream",
          "name": "stderr",
          "text": [
            "Train Epoch 16: 100%|██████████| 391/391 [00:20<00:00, 19.25it/s, acc=56.5, loss=1.21]\n"
          ]
        },
        {
          "output_type": "stream",
          "name": "stdout",
          "text": [
            "Epoch 16: train_loss=1.2115 train_acc=56.54 val_loss=0.9119 val_acc=67.33 lr=0.000299\n",
            "Saved best model: 67.33\n"
          ]
        },
        {
          "output_type": "stream",
          "name": "stderr",
          "text": [
            "Train Epoch 17: 100%|██████████| 391/391 [00:20<00:00, 19.35it/s, acc=57.4, loss=1.19]\n"
          ]
        },
        {
          "output_type": "stream",
          "name": "stdout",
          "text": [
            "Epoch 17: train_loss=1.1892 train_acc=57.39 val_loss=0.8966 val_acc=68.07 lr=0.000299\n",
            "Saved best model: 68.07\n"
          ]
        },
        {
          "output_type": "stream",
          "name": "stderr",
          "text": [
            "Train Epoch 18: 100%|██████████| 391/391 [00:19<00:00, 19.61it/s, acc=58.5, loss=1.17]\n"
          ]
        },
        {
          "output_type": "stream",
          "name": "stdout",
          "text": [
            "Epoch 18: train_loss=1.1666 train_acc=58.50 val_loss=0.8773 val_acc=68.11 lr=0.000299\n",
            "Saved best model: 68.11\n"
          ]
        },
        {
          "output_type": "stream",
          "name": "stderr",
          "text": [
            "Train Epoch 19: 100%|██████████| 391/391 [00:20<00:00, 19.26it/s, acc=59.1, loss=1.14]\n"
          ]
        },
        {
          "output_type": "stream",
          "name": "stdout",
          "text": [
            "Epoch 19: train_loss=1.1443 train_acc=59.08 val_loss=0.8826 val_acc=68.63 lr=0.000298\n",
            "Saved best model: 68.63\n"
          ]
        },
        {
          "output_type": "stream",
          "name": "stderr",
          "text": [
            "Train Epoch 20: 100%|██████████| 391/391 [00:20<00:00, 19.19it/s, acc=60.1, loss=1.12]\n"
          ]
        },
        {
          "output_type": "stream",
          "name": "stdout",
          "text": [
            "Epoch 20: train_loss=1.1241 train_acc=60.07 val_loss=0.8584 val_acc=70.17 lr=0.000298\n",
            "Saved best model: 70.17\n"
          ]
        },
        {
          "output_type": "stream",
          "name": "stderr",
          "text": [
            "Train Epoch 21: 100%|██████████| 391/391 [00:20<00:00, 19.43it/s, acc=60.9, loss=1.1]\n"
          ]
        },
        {
          "output_type": "stream",
          "name": "stdout",
          "text": [
            "Epoch 21: train_loss=1.1031 train_acc=60.86 val_loss=0.7921 val_acc=72.13 lr=0.000298\n",
            "Saved best model: 72.13\n"
          ]
        },
        {
          "output_type": "stream",
          "name": "stderr",
          "text": [
            "Train Epoch 22: 100%|██████████| 391/391 [00:20<00:00, 19.33it/s, acc=61.3, loss=1.09]\n"
          ]
        },
        {
          "output_type": "stream",
          "name": "stdout",
          "text": [
            "Epoch 22: train_loss=1.0867 train_acc=61.34 val_loss=0.8279 val_acc=70.39 lr=0.000298\n"
          ]
        },
        {
          "output_type": "stream",
          "name": "stderr",
          "text": [
            "Train Epoch 23: 100%|██████████| 391/391 [00:20<00:00, 19.05it/s, acc=61.8, loss=1.07]\n"
          ]
        },
        {
          "output_type": "stream",
          "name": "stdout",
          "text": [
            "Epoch 23: train_loss=1.0680 train_acc=61.82 val_loss=0.7670 val_acc=73.05 lr=0.000297\n",
            "Saved best model: 73.05\n"
          ]
        },
        {
          "output_type": "stream",
          "name": "stderr",
          "text": [
            "Train Epoch 24: 100%|██████████| 391/391 [00:20<00:00, 19.46it/s, acc=62.5, loss=1.05]\n"
          ]
        },
        {
          "output_type": "stream",
          "name": "stdout",
          "text": [
            "Epoch 24: train_loss=1.0514 train_acc=62.53 val_loss=0.7695 val_acc=73.01 lr=0.000297\n"
          ]
        },
        {
          "output_type": "stream",
          "name": "stderr",
          "text": [
            "Train Epoch 25: 100%|██████████| 391/391 [00:20<00:00, 19.31it/s, acc=63.2, loss=1.04]\n"
          ]
        },
        {
          "output_type": "stream",
          "name": "stdout",
          "text": [
            "Epoch 25: train_loss=1.0364 train_acc=63.19 val_loss=0.7372 val_acc=73.81 lr=0.000297\n",
            "Saved best model: 73.81\n"
          ]
        },
        {
          "output_type": "stream",
          "name": "stderr",
          "text": [
            "Train Epoch 26: 100%|██████████| 391/391 [00:20<00:00, 19.19it/s, acc=63.6, loss=1.02]\n"
          ]
        },
        {
          "output_type": "stream",
          "name": "stdout",
          "text": [
            "Epoch 26: train_loss=1.0239 train_acc=63.57 val_loss=0.7536 val_acc=73.36 lr=0.000296\n"
          ]
        },
        {
          "output_type": "stream",
          "name": "stderr",
          "text": [
            "Train Epoch 27: 100%|██████████| 391/391 [00:20<00:00, 19.21it/s, acc=64.4, loss=1.01]\n"
          ]
        },
        {
          "output_type": "stream",
          "name": "stdout",
          "text": [
            "Epoch 27: train_loss=1.0070 train_acc=64.36 val_loss=0.7289 val_acc=74.23 lr=0.000296\n",
            "Saved best model: 74.23\n"
          ]
        },
        {
          "output_type": "stream",
          "name": "stderr",
          "text": [
            "Train Epoch 28: 100%|██████████| 391/391 [00:20<00:00, 18.94it/s, acc=64.6, loss=0.998]\n"
          ]
        },
        {
          "output_type": "stream",
          "name": "stdout",
          "text": [
            "Epoch 28: train_loss=0.9976 train_acc=64.65 val_loss=0.6899 val_acc=75.69 lr=0.000296\n",
            "Saved best model: 75.69\n"
          ]
        },
        {
          "output_type": "stream",
          "name": "stderr",
          "text": [
            "Train Epoch 29: 100%|██████████| 391/391 [00:20<00:00, 19.52it/s, acc=65.2, loss=0.984]\n"
          ]
        },
        {
          "output_type": "stream",
          "name": "stdout",
          "text": [
            "Epoch 29: train_loss=0.9837 train_acc=65.16 val_loss=0.7101 val_acc=74.41 lr=0.000295\n"
          ]
        },
        {
          "output_type": "stream",
          "name": "stderr",
          "text": [
            "Train Epoch 30: 100%|██████████| 391/391 [00:20<00:00, 19.19it/s, acc=65.2, loss=0.977]\n"
          ]
        },
        {
          "output_type": "stream",
          "name": "stdout",
          "text": [
            "Epoch 30: train_loss=0.9766 train_acc=65.24 val_loss=0.7303 val_acc=73.94 lr=0.000295\n"
          ]
        },
        {
          "output_type": "stream",
          "name": "stderr",
          "text": [
            "Train Epoch 31: 100%|██████████| 391/391 [00:19<00:00, 19.57it/s, acc=66, loss=0.962]\n"
          ]
        },
        {
          "output_type": "stream",
          "name": "stdout",
          "text": [
            "Epoch 31: train_loss=0.9619 train_acc=65.97 val_loss=0.6911 val_acc=75.80 lr=0.000294\n",
            "Saved best model: 75.8\n"
          ]
        },
        {
          "output_type": "stream",
          "name": "stderr",
          "text": [
            "Train Epoch 32: 100%|██████████| 391/391 [00:20<00:00, 19.05it/s, acc=66.8, loss=0.941]\n"
          ]
        },
        {
          "output_type": "stream",
          "name": "stdout",
          "text": [
            "Epoch 32: train_loss=0.9409 train_acc=66.75 val_loss=0.6708 val_acc=76.17 lr=0.000294\n",
            "Saved best model: 76.17\n"
          ]
        },
        {
          "output_type": "stream",
          "name": "stderr",
          "text": [
            "Train Epoch 33: 100%|██████████| 391/391 [00:20<00:00, 19.36it/s, acc=66.8, loss=0.936]\n"
          ]
        },
        {
          "output_type": "stream",
          "name": "stdout",
          "text": [
            "Epoch 33: train_loss=0.9362 train_acc=66.78 val_loss=0.6446 val_acc=77.51 lr=0.000293\n",
            "Saved best model: 77.51\n"
          ]
        },
        {
          "output_type": "stream",
          "name": "stderr",
          "text": [
            "Train Epoch 34: 100%|██████████| 391/391 [00:20<00:00, 18.96it/s, acc=67.5, loss=0.917]\n"
          ]
        },
        {
          "output_type": "stream",
          "name": "stdout",
          "text": [
            "Epoch 34: train_loss=0.9168 train_acc=67.47 val_loss=0.6835 val_acc=76.00 lr=0.000293\n"
          ]
        },
        {
          "output_type": "stream",
          "name": "stderr",
          "text": [
            "Train Epoch 35: 100%|██████████| 391/391 [00:20<00:00, 19.23it/s, acc=67.8, loss=0.907]\n"
          ]
        },
        {
          "output_type": "stream",
          "name": "stdout",
          "text": [
            "Epoch 35: train_loss=0.9068 train_acc=67.80 val_loss=0.6381 val_acc=78.15 lr=0.000292\n",
            "Saved best model: 78.15\n"
          ]
        },
        {
          "output_type": "stream",
          "name": "stderr",
          "text": [
            "Train Epoch 36: 100%|██████████| 391/391 [00:20<00:00, 19.39it/s, acc=67.9, loss=0.908]\n"
          ]
        },
        {
          "output_type": "stream",
          "name": "stdout",
          "text": [
            "Epoch 36: train_loss=0.9075 train_acc=67.94 val_loss=0.6712 val_acc=76.37 lr=0.000292\n"
          ]
        },
        {
          "output_type": "stream",
          "name": "stderr",
          "text": [
            "Train Epoch 37: 100%|██████████| 391/391 [00:20<00:00, 19.09it/s, acc=68.3, loss=0.895]\n"
          ]
        },
        {
          "output_type": "stream",
          "name": "stdout",
          "text": [
            "Epoch 37: train_loss=0.8954 train_acc=68.32 val_loss=0.6228 val_acc=77.83 lr=0.000291\n"
          ]
        },
        {
          "output_type": "stream",
          "name": "stderr",
          "text": [
            "Train Epoch 38: 100%|██████████| 391/391 [00:20<00:00, 19.11it/s, acc=68.9, loss=0.885]\n"
          ]
        },
        {
          "output_type": "stream",
          "name": "stdout",
          "text": [
            "Epoch 38: train_loss=0.8847 train_acc=68.89 val_loss=0.6499 val_acc=77.44 lr=0.000291\n"
          ]
        },
        {
          "output_type": "stream",
          "name": "stderr",
          "text": [
            "Train Epoch 39: 100%|██████████| 391/391 [00:20<00:00, 19.04it/s, acc=69.3, loss=0.871]\n"
          ]
        },
        {
          "output_type": "stream",
          "name": "stdout",
          "text": [
            "Epoch 39: train_loss=0.8715 train_acc=69.29 val_loss=0.6363 val_acc=77.39 lr=0.000290\n"
          ]
        },
        {
          "output_type": "stream",
          "name": "stderr",
          "text": [
            "Train Epoch 40: 100%|██████████| 391/391 [00:20<00:00, 18.99it/s, acc=69.4, loss=0.864]\n"
          ]
        },
        {
          "output_type": "stream",
          "name": "stdout",
          "text": [
            "Epoch 40: train_loss=0.8644 train_acc=69.42 val_loss=0.6041 val_acc=78.74 lr=0.000290\n",
            "Saved best model: 78.74\n"
          ]
        },
        {
          "output_type": "stream",
          "name": "stderr",
          "text": [
            "Train Epoch 41: 100%|██████████| 391/391 [00:20<00:00, 19.37it/s, acc=69.9, loss=0.854]\n"
          ]
        },
        {
          "output_type": "stream",
          "name": "stdout",
          "text": [
            "Epoch 41: train_loss=0.8543 train_acc=69.88 val_loss=0.6047 val_acc=78.61 lr=0.000289\n"
          ]
        },
        {
          "output_type": "stream",
          "name": "stderr",
          "text": [
            "Train Epoch 42: 100%|██████████| 391/391 [00:20<00:00, 19.37it/s, acc=70, loss=0.847]\n"
          ]
        },
        {
          "output_type": "stream",
          "name": "stdout",
          "text": [
            "Epoch 42: train_loss=0.8472 train_acc=70.01 val_loss=0.5866 val_acc=79.41 lr=0.000289\n",
            "Saved best model: 79.41\n"
          ]
        },
        {
          "output_type": "stream",
          "name": "stderr",
          "text": [
            "Train Epoch 43: 100%|██████████| 391/391 [00:20<00:00, 19.25it/s, acc=70.5, loss=0.836]\n"
          ]
        },
        {
          "output_type": "stream",
          "name": "stdout",
          "text": [
            "Epoch 43: train_loss=0.8363 train_acc=70.54 val_loss=0.5591 val_acc=80.64 lr=0.000288\n",
            "Saved best model: 80.64\n"
          ]
        },
        {
          "output_type": "stream",
          "name": "stderr",
          "text": [
            "Train Epoch 44: 100%|██████████| 391/391 [00:20<00:00, 19.16it/s, acc=70.7, loss=0.829]\n"
          ]
        },
        {
          "output_type": "stream",
          "name": "stdout",
          "text": [
            "Epoch 44: train_loss=0.8292 train_acc=70.74 val_loss=0.5712 val_acc=80.12 lr=0.000287\n"
          ]
        },
        {
          "output_type": "stream",
          "name": "stderr",
          "text": [
            "Train Epoch 45: 100%|██████████| 391/391 [00:20<00:00, 18.99it/s, acc=71.1, loss=0.818]\n"
          ]
        },
        {
          "output_type": "stream",
          "name": "stdout",
          "text": [
            "Epoch 45: train_loss=0.8183 train_acc=71.09 val_loss=0.5590 val_acc=80.36 lr=0.000287\n"
          ]
        },
        {
          "output_type": "stream",
          "name": "stderr",
          "text": [
            "Train Epoch 46: 100%|██████████| 391/391 [00:20<00:00, 19.48it/s, acc=71, loss=0.813]\n"
          ]
        },
        {
          "output_type": "stream",
          "name": "stdout",
          "text": [
            "Epoch 46: train_loss=0.8133 train_acc=71.02 val_loss=0.5925 val_acc=79.07 lr=0.000286\n"
          ]
        },
        {
          "output_type": "stream",
          "name": "stderr",
          "text": [
            "Train Epoch 47: 100%|██████████| 391/391 [00:20<00:00, 19.11it/s, acc=71.1, loss=0.815]\n"
          ]
        },
        {
          "output_type": "stream",
          "name": "stdout",
          "text": [
            "Epoch 47: train_loss=0.8150 train_acc=71.07 val_loss=0.5620 val_acc=80.35 lr=0.000285\n"
          ]
        },
        {
          "output_type": "stream",
          "name": "stderr",
          "text": [
            "Train Epoch 48: 100%|██████████| 391/391 [00:20<00:00, 19.36it/s, acc=71.8, loss=0.797]\n"
          ]
        },
        {
          "output_type": "stream",
          "name": "stdout",
          "text": [
            "Epoch 48: train_loss=0.7973 train_acc=71.76 val_loss=0.5722 val_acc=79.31 lr=0.000285\n"
          ]
        },
        {
          "output_type": "stream",
          "name": "stderr",
          "text": [
            "Train Epoch 49: 100%|██████████| 391/391 [00:20<00:00, 19.47it/s, acc=71.7, loss=0.796]\n"
          ]
        },
        {
          "output_type": "stream",
          "name": "stdout",
          "text": [
            "Epoch 49: train_loss=0.7956 train_acc=71.69 val_loss=0.5940 val_acc=79.40 lr=0.000284\n"
          ]
        },
        {
          "output_type": "stream",
          "name": "stderr",
          "text": [
            "Train Epoch 50: 100%|██████████| 391/391 [00:20<00:00, 19.23it/s, acc=72.5, loss=0.782]\n"
          ]
        },
        {
          "output_type": "stream",
          "name": "stdout",
          "text": [
            "Epoch 50: train_loss=0.7818 train_acc=72.45 val_loss=0.5411 val_acc=80.93 lr=0.000283\n",
            "Saved best model: 80.93\n"
          ]
        },
        {
          "output_type": "stream",
          "name": "stderr",
          "text": [
            "Train Epoch 51: 100%|██████████| 391/391 [00:20<00:00, 19.46it/s, acc=72.3, loss=0.782]\n"
          ]
        },
        {
          "output_type": "stream",
          "name": "stdout",
          "text": [
            "Epoch 51: train_loss=0.7824 train_acc=72.29 val_loss=0.5535 val_acc=80.89 lr=0.000282\n"
          ]
        },
        {
          "output_type": "stream",
          "name": "stderr",
          "text": [
            "Train Epoch 52: 100%|██████████| 391/391 [00:20<00:00, 19.35it/s, acc=72.8, loss=0.77]\n"
          ]
        },
        {
          "output_type": "stream",
          "name": "stdout",
          "text": [
            "Epoch 52: train_loss=0.7704 train_acc=72.79 val_loss=0.5461 val_acc=81.14 lr=0.000282\n",
            "Saved best model: 81.14\n"
          ]
        },
        {
          "output_type": "stream",
          "name": "stderr",
          "text": [
            "Train Epoch 53: 100%|██████████| 391/391 [00:20<00:00, 19.38it/s, acc=73.2, loss=0.755]\n"
          ]
        },
        {
          "output_type": "stream",
          "name": "stdout",
          "text": [
            "Epoch 53: train_loss=0.7545 train_acc=73.20 val_loss=0.5290 val_acc=81.50 lr=0.000281\n",
            "Saved best model: 81.5\n"
          ]
        },
        {
          "output_type": "stream",
          "name": "stderr",
          "text": [
            "Train Epoch 54: 100%|██████████| 391/391 [00:20<00:00, 19.10it/s, acc=73.4, loss=0.757]\n"
          ]
        },
        {
          "output_type": "stream",
          "name": "stdout",
          "text": [
            "Epoch 54: train_loss=0.7568 train_acc=73.45 val_loss=0.5308 val_acc=81.56 lr=0.000280\n",
            "Saved best model: 81.56\n"
          ]
        },
        {
          "output_type": "stream",
          "name": "stderr",
          "text": [
            "Train Epoch 55: 100%|██████████| 391/391 [00:20<00:00, 19.23it/s, acc=73.6, loss=0.75]\n"
          ]
        },
        {
          "output_type": "stream",
          "name": "stdout",
          "text": [
            "Epoch 55: train_loss=0.7502 train_acc=73.57 val_loss=0.5258 val_acc=81.41 lr=0.000279\n"
          ]
        },
        {
          "output_type": "stream",
          "name": "stderr",
          "text": [
            "Train Epoch 56: 100%|██████████| 391/391 [00:20<00:00, 18.92it/s, acc=74, loss=0.739]\n"
          ]
        },
        {
          "output_type": "stream",
          "name": "stdout",
          "text": [
            "Epoch 56: train_loss=0.7394 train_acc=73.99 val_loss=0.5539 val_acc=80.72 lr=0.000278\n"
          ]
        },
        {
          "output_type": "stream",
          "name": "stderr",
          "text": [
            "Train Epoch 57: 100%|██████████| 391/391 [00:20<00:00, 19.07it/s, acc=74.1, loss=0.735]\n"
          ]
        },
        {
          "output_type": "stream",
          "name": "stdout",
          "text": [
            "Epoch 57: train_loss=0.7354 train_acc=74.10 val_loss=0.5343 val_acc=81.66 lr=0.000278\n",
            "Saved best model: 81.66\n"
          ]
        },
        {
          "output_type": "stream",
          "name": "stderr",
          "text": [
            "Train Epoch 58: 100%|██████████| 391/391 [00:20<00:00, 18.98it/s, acc=74.3, loss=0.728]\n"
          ]
        },
        {
          "output_type": "stream",
          "name": "stdout",
          "text": [
            "Epoch 58: train_loss=0.7283 train_acc=74.30 val_loss=0.5149 val_acc=81.91 lr=0.000277\n",
            "Saved best model: 81.91\n"
          ]
        },
        {
          "output_type": "stream",
          "name": "stderr",
          "text": [
            "Train Epoch 59: 100%|██████████| 391/391 [00:20<00:00, 19.41it/s, acc=74.4, loss=0.729]\n"
          ]
        },
        {
          "output_type": "stream",
          "name": "stdout",
          "text": [
            "Epoch 59: train_loss=0.7291 train_acc=74.36 val_loss=0.5116 val_acc=82.45 lr=0.000276\n",
            "Saved best model: 82.45\n"
          ]
        },
        {
          "output_type": "stream",
          "name": "stderr",
          "text": [
            "Train Epoch 60: 100%|██████████| 391/391 [00:20<00:00, 19.37it/s, acc=74.6, loss=0.719]\n"
          ]
        },
        {
          "output_type": "stream",
          "name": "stdout",
          "text": [
            "Epoch 60: train_loss=0.7194 train_acc=74.56 val_loss=0.5068 val_acc=82.32 lr=0.000275\n"
          ]
        },
        {
          "output_type": "stream",
          "name": "stderr",
          "text": [
            "Train Epoch 61: 100%|██████████| 391/391 [00:20<00:00, 18.94it/s, acc=75.4, loss=0.7]\n"
          ]
        },
        {
          "output_type": "stream",
          "name": "stdout",
          "text": [
            "Epoch 61: train_loss=0.6996 train_acc=75.36 val_loss=0.5270 val_acc=82.16 lr=0.000274\n"
          ]
        },
        {
          "output_type": "stream",
          "name": "stderr",
          "text": [
            "Train Epoch 62: 100%|██████████| 391/391 [00:20<00:00, 19.33it/s, acc=75.2, loss=0.702]\n"
          ]
        },
        {
          "output_type": "stream",
          "name": "stdout",
          "text": [
            "Epoch 62: train_loss=0.7016 train_acc=75.18 val_loss=0.5069 val_acc=82.36 lr=0.000273\n"
          ]
        },
        {
          "output_type": "stream",
          "name": "stderr",
          "text": [
            "Train Epoch 63: 100%|██████████| 391/391 [00:19<00:00, 19.58it/s, acc=75.4, loss=0.696]\n"
          ]
        },
        {
          "output_type": "stream",
          "name": "stdout",
          "text": [
            "Epoch 63: train_loss=0.6961 train_acc=75.43 val_loss=0.5575 val_acc=81.00 lr=0.000272\n"
          ]
        },
        {
          "output_type": "stream",
          "name": "stderr",
          "text": [
            "Train Epoch 64: 100%|██████████| 391/391 [00:20<00:00, 18.80it/s, acc=75.6, loss=0.688]\n"
          ]
        },
        {
          "output_type": "stream",
          "name": "stdout",
          "text": [
            "Epoch 64: train_loss=0.6880 train_acc=75.60 val_loss=0.4876 val_acc=83.16 lr=0.000271\n",
            "Saved best model: 83.16\n"
          ]
        },
        {
          "output_type": "stream",
          "name": "stderr",
          "text": [
            "Train Epoch 65: 100%|██████████| 391/391 [00:20<00:00, 19.20it/s, acc=75.6, loss=0.688]\n"
          ]
        },
        {
          "output_type": "stream",
          "name": "stdout",
          "text": [
            "Epoch 65: train_loss=0.6877 train_acc=75.62 val_loss=0.4960 val_acc=82.43 lr=0.000270\n"
          ]
        },
        {
          "output_type": "stream",
          "name": "stderr",
          "text": [
            "Train Epoch 66: 100%|██████████| 391/391 [00:20<00:00, 19.24it/s, acc=76.2, loss=0.672]\n"
          ]
        },
        {
          "output_type": "stream",
          "name": "stdout",
          "text": [
            "Epoch 66: train_loss=0.6718 train_acc=76.22 val_loss=0.4919 val_acc=83.07 lr=0.000269\n"
          ]
        },
        {
          "output_type": "stream",
          "name": "stderr",
          "text": [
            "Train Epoch 67: 100%|██████████| 391/391 [00:20<00:00, 19.52it/s, acc=76.1, loss=0.676]\n"
          ]
        },
        {
          "output_type": "stream",
          "name": "stdout",
          "text": [
            "Epoch 67: train_loss=0.6758 train_acc=76.13 val_loss=0.4775 val_acc=83.58 lr=0.000268\n",
            "Saved best model: 83.58\n"
          ]
        },
        {
          "output_type": "stream",
          "name": "stderr",
          "text": [
            "Train Epoch 68: 100%|██████████| 391/391 [00:20<00:00, 18.66it/s, acc=76.6, loss=0.666]\n"
          ]
        },
        {
          "output_type": "stream",
          "name": "stdout",
          "text": [
            "Epoch 68: train_loss=0.6655 train_acc=76.57 val_loss=0.4847 val_acc=83.32 lr=0.000267\n"
          ]
        },
        {
          "output_type": "stream",
          "name": "stderr",
          "text": [
            "Train Epoch 69: 100%|██████████| 391/391 [00:20<00:00, 18.88it/s, acc=76.6, loss=0.66]\n"
          ]
        },
        {
          "output_type": "stream",
          "name": "stdout",
          "text": [
            "Epoch 69: train_loss=0.6598 train_acc=76.63 val_loss=0.4885 val_acc=83.42 lr=0.000266\n"
          ]
        },
        {
          "output_type": "stream",
          "name": "stderr",
          "text": [
            "Train Epoch 70: 100%|██████████| 391/391 [00:20<00:00, 19.45it/s, acc=77, loss=0.653]\n"
          ]
        },
        {
          "output_type": "stream",
          "name": "stdout",
          "text": [
            "Epoch 70: train_loss=0.6532 train_acc=76.95 val_loss=0.4790 val_acc=83.52 lr=0.000265\n"
          ]
        },
        {
          "output_type": "stream",
          "name": "stderr",
          "text": [
            "Train Epoch 71: 100%|██████████| 391/391 [00:20<00:00, 18.92it/s, acc=77.5, loss=0.644]\n"
          ]
        },
        {
          "output_type": "stream",
          "name": "stdout",
          "text": [
            "Epoch 71: train_loss=0.6444 train_acc=77.46 val_loss=0.4884 val_acc=82.82 lr=0.000264\n"
          ]
        },
        {
          "output_type": "stream",
          "name": "stderr",
          "text": [
            "Train Epoch 72: 100%|██████████| 391/391 [00:20<00:00, 19.29it/s, acc=77.3, loss=0.644]\n"
          ]
        },
        {
          "output_type": "stream",
          "name": "stdout",
          "text": [
            "Epoch 72: train_loss=0.6437 train_acc=77.32 val_loss=0.4817 val_acc=83.20 lr=0.000263\n"
          ]
        },
        {
          "output_type": "stream",
          "name": "stderr",
          "text": [
            "Train Epoch 73: 100%|██████████| 391/391 [00:20<00:00, 19.36it/s, acc=77.4, loss=0.643]\n"
          ]
        },
        {
          "output_type": "stream",
          "name": "stdout",
          "text": [
            "Epoch 73: train_loss=0.6426 train_acc=77.44 val_loss=0.4746 val_acc=83.58 lr=0.000262\n"
          ]
        },
        {
          "output_type": "stream",
          "name": "stderr",
          "text": [
            "Train Epoch 74: 100%|██████████| 391/391 [00:19<00:00, 19.57it/s, acc=77.6, loss=0.637]\n"
          ]
        },
        {
          "output_type": "stream",
          "name": "stdout",
          "text": [
            "Epoch 74: train_loss=0.6371 train_acc=77.59 val_loss=0.4998 val_acc=82.94 lr=0.000261\n"
          ]
        },
        {
          "output_type": "stream",
          "name": "stderr",
          "text": [
            "Train Epoch 75: 100%|██████████| 391/391 [00:20<00:00, 18.96it/s, acc=77.8, loss=0.624]\n"
          ]
        },
        {
          "output_type": "stream",
          "name": "stdout",
          "text": [
            "Epoch 75: train_loss=0.6241 train_acc=77.82 val_loss=0.4700 val_acc=83.23 lr=0.000260\n"
          ]
        },
        {
          "output_type": "stream",
          "name": "stderr",
          "text": [
            "Train Epoch 76: 100%|██████████| 391/391 [00:20<00:00, 19.32it/s, acc=78.3, loss=0.615]\n"
          ]
        },
        {
          "output_type": "stream",
          "name": "stdout",
          "text": [
            "Epoch 76: train_loss=0.6154 train_acc=78.34 val_loss=0.4715 val_acc=83.81 lr=0.000259\n",
            "Saved best model: 83.81\n"
          ]
        },
        {
          "output_type": "stream",
          "name": "stderr",
          "text": [
            "Train Epoch 77: 100%|██████████| 391/391 [00:20<00:00, 19.38it/s, acc=78.2, loss=0.611]\n"
          ]
        },
        {
          "output_type": "stream",
          "name": "stdout",
          "text": [
            "Epoch 77: train_loss=0.6108 train_acc=78.23 val_loss=0.4480 val_acc=84.82 lr=0.000258\n",
            "Saved best model: 84.82\n"
          ]
        },
        {
          "output_type": "stream",
          "name": "stderr",
          "text": [
            "Train Epoch 78: 100%|██████████| 391/391 [00:20<00:00, 19.13it/s, acc=78.4, loss=0.61]\n"
          ]
        },
        {
          "output_type": "stream",
          "name": "stdout",
          "text": [
            "Epoch 78: train_loss=0.6102 train_acc=78.41 val_loss=0.4657 val_acc=84.52 lr=0.000257\n"
          ]
        },
        {
          "output_type": "stream",
          "name": "stderr",
          "text": [
            "Train Epoch 79: 100%|██████████| 391/391 [00:20<00:00, 19.54it/s, acc=78.5, loss=0.61]\n"
          ]
        },
        {
          "output_type": "stream",
          "name": "stdout",
          "text": [
            "Epoch 79: train_loss=0.6100 train_acc=78.50 val_loss=0.4560 val_acc=84.43 lr=0.000256\n"
          ]
        },
        {
          "output_type": "stream",
          "name": "stderr",
          "text": [
            "Train Epoch 80: 100%|██████████| 391/391 [00:20<00:00, 19.29it/s, acc=78.8, loss=0.601]\n"
          ]
        },
        {
          "output_type": "stream",
          "name": "stdout",
          "text": [
            "Epoch 80: train_loss=0.6014 train_acc=78.79 val_loss=0.4612 val_acc=84.33 lr=0.000255\n"
          ]
        },
        {
          "output_type": "stream",
          "name": "stderr",
          "text": [
            "Train Epoch 81: 100%|██████████| 391/391 [00:20<00:00, 19.16it/s, acc=78.9, loss=0.597]\n"
          ]
        },
        {
          "output_type": "stream",
          "name": "stdout",
          "text": [
            "Epoch 81: train_loss=0.5969 train_acc=78.86 val_loss=0.4682 val_acc=84.19 lr=0.000253\n"
          ]
        },
        {
          "output_type": "stream",
          "name": "stderr",
          "text": [
            "Train Epoch 82: 100%|██████████| 391/391 [00:20<00:00, 19.38it/s, acc=78.8, loss=0.596]\n"
          ]
        },
        {
          "output_type": "stream",
          "name": "stdout",
          "text": [
            "Epoch 82: train_loss=0.5956 train_acc=78.83 val_loss=0.4751 val_acc=84.08 lr=0.000252\n"
          ]
        },
        {
          "output_type": "stream",
          "name": "stderr",
          "text": [
            "Train Epoch 83: 100%|██████████| 391/391 [00:20<00:00, 19.53it/s, acc=79.4, loss=0.586]\n"
          ]
        },
        {
          "output_type": "stream",
          "name": "stdout",
          "text": [
            "Epoch 83: train_loss=0.5858 train_acc=79.41 val_loss=0.4548 val_acc=84.59 lr=0.000251\n"
          ]
        },
        {
          "output_type": "stream",
          "name": "stderr",
          "text": [
            "Train Epoch 84: 100%|██████████| 391/391 [00:20<00:00, 19.04it/s, acc=79.2, loss=0.591]\n"
          ]
        },
        {
          "output_type": "stream",
          "name": "stdout",
          "text": [
            "Epoch 84: train_loss=0.5912 train_acc=79.17 val_loss=0.4514 val_acc=84.84 lr=0.000250\n",
            "Saved best model: 84.84\n"
          ]
        },
        {
          "output_type": "stream",
          "name": "stderr",
          "text": [
            "Train Epoch 85: 100%|██████████| 391/391 [00:20<00:00, 18.73it/s, acc=79.6, loss=0.578]\n"
          ]
        },
        {
          "output_type": "stream",
          "name": "stdout",
          "text": [
            "Epoch 85: train_loss=0.5778 train_acc=79.59 val_loss=0.4425 val_acc=84.95 lr=0.000249\n",
            "Saved best model: 84.95\n"
          ]
        },
        {
          "output_type": "stream",
          "name": "stderr",
          "text": [
            "Train Epoch 86: 100%|██████████| 391/391 [00:20<00:00, 19.39it/s, acc=79.5, loss=0.58]\n"
          ]
        },
        {
          "output_type": "stream",
          "name": "stdout",
          "text": [
            "Epoch 86: train_loss=0.5800 train_acc=79.54 val_loss=0.4501 val_acc=84.80 lr=0.000248\n"
          ]
        },
        {
          "output_type": "stream",
          "name": "stderr",
          "text": [
            "Train Epoch 87: 100%|██████████| 391/391 [00:20<00:00, 19.52it/s, acc=80, loss=0.566]\n"
          ]
        },
        {
          "output_type": "stream",
          "name": "stdout",
          "text": [
            "Epoch 87: train_loss=0.5660 train_acc=80.00 val_loss=0.4497 val_acc=84.87 lr=0.000246\n"
          ]
        },
        {
          "output_type": "stream",
          "name": "stderr",
          "text": [
            "Train Epoch 88: 100%|██████████| 391/391 [00:20<00:00, 19.35it/s, acc=79.9, loss=0.567]\n"
          ]
        },
        {
          "output_type": "stream",
          "name": "stdout",
          "text": [
            "Epoch 88: train_loss=0.5666 train_acc=79.91 val_loss=0.4361 val_acc=85.35 lr=0.000245\n",
            "Saved best model: 85.35\n"
          ]
        },
        {
          "output_type": "stream",
          "name": "stderr",
          "text": [
            "Train Epoch 89: 100%|██████████| 391/391 [00:20<00:00, 19.10it/s, acc=80.1, loss=0.564]\n"
          ]
        },
        {
          "output_type": "stream",
          "name": "stdout",
          "text": [
            "Epoch 89: train_loss=0.5640 train_acc=80.08 val_loss=0.4386 val_acc=85.80 lr=0.000244\n",
            "Saved best model: 85.8\n"
          ]
        },
        {
          "output_type": "stream",
          "name": "stderr",
          "text": [
            "Train Epoch 90: 100%|██████████| 391/391 [00:20<00:00, 19.39it/s, acc=80.4, loss=0.554]\n"
          ]
        },
        {
          "output_type": "stream",
          "name": "stdout",
          "text": [
            "Epoch 90: train_loss=0.5539 train_acc=80.45 val_loss=0.4525 val_acc=85.26 lr=0.000243\n"
          ]
        },
        {
          "output_type": "stream",
          "name": "stderr",
          "text": [
            "Train Epoch 91: 100%|██████████| 391/391 [00:20<00:00, 19.29it/s, acc=80.5, loss=0.552]\n"
          ]
        },
        {
          "output_type": "stream",
          "name": "stdout",
          "text": [
            "Epoch 91: train_loss=0.5524 train_acc=80.46 val_loss=0.4211 val_acc=85.88 lr=0.000241\n",
            "Saved best model: 85.88\n"
          ]
        },
        {
          "output_type": "stream",
          "name": "stderr",
          "text": [
            "Train Epoch 92: 100%|██████████| 391/391 [00:20<00:00, 19.40it/s, acc=80.9, loss=0.545]\n"
          ]
        },
        {
          "output_type": "stream",
          "name": "stdout",
          "text": [
            "Epoch 92: train_loss=0.5447 train_acc=80.91 val_loss=0.4378 val_acc=85.02 lr=0.000240\n"
          ]
        },
        {
          "output_type": "stream",
          "name": "stderr",
          "text": [
            "Train Epoch 93: 100%|██████████| 391/391 [00:20<00:00, 19.25it/s, acc=81, loss=0.538]\n"
          ]
        },
        {
          "output_type": "stream",
          "name": "stdout",
          "text": [
            "Epoch 93: train_loss=0.5382 train_acc=80.98 val_loss=0.4288 val_acc=86.10 lr=0.000239\n",
            "Saved best model: 86.1\n"
          ]
        },
        {
          "output_type": "stream",
          "name": "stderr",
          "text": [
            "Train Epoch 94: 100%|██████████| 391/391 [00:20<00:00, 18.93it/s, acc=81.2, loss=0.534]\n"
          ]
        },
        {
          "output_type": "stream",
          "name": "stdout",
          "text": [
            "Epoch 94: train_loss=0.5341 train_acc=81.19 val_loss=0.4498 val_acc=85.25 lr=0.000238\n"
          ]
        },
        {
          "output_type": "stream",
          "name": "stderr",
          "text": [
            "Train Epoch 95: 100%|██████████| 391/391 [00:20<00:00, 19.17it/s, acc=81.1, loss=0.537]\n"
          ]
        },
        {
          "output_type": "stream",
          "name": "stdout",
          "text": [
            "Epoch 95: train_loss=0.5367 train_acc=81.07 val_loss=0.4348 val_acc=85.60 lr=0.000236\n"
          ]
        },
        {
          "output_type": "stream",
          "name": "stderr",
          "text": [
            "Train Epoch 96: 100%|██████████| 391/391 [00:20<00:00, 19.38it/s, acc=81.1, loss=0.532]\n"
          ]
        },
        {
          "output_type": "stream",
          "name": "stdout",
          "text": [
            "Epoch 96: train_loss=0.5324 train_acc=81.13 val_loss=0.4320 val_acc=85.68 lr=0.000235\n"
          ]
        },
        {
          "output_type": "stream",
          "name": "stderr",
          "text": [
            "Train Epoch 97: 100%|██████████| 391/391 [00:20<00:00, 19.31it/s, acc=81.3, loss=0.531]\n"
          ]
        },
        {
          "output_type": "stream",
          "name": "stdout",
          "text": [
            "Epoch 97: train_loss=0.5314 train_acc=81.28 val_loss=0.4369 val_acc=85.74 lr=0.000234\n"
          ]
        },
        {
          "output_type": "stream",
          "name": "stderr",
          "text": [
            "Train Epoch 98: 100%|██████████| 391/391 [00:20<00:00, 19.24it/s, acc=81.4, loss=0.526]\n"
          ]
        },
        {
          "output_type": "stream",
          "name": "stdout",
          "text": [
            "Epoch 98: train_loss=0.5262 train_acc=81.43 val_loss=0.4102 val_acc=86.24 lr=0.000232\n",
            "Saved best model: 86.24\n"
          ]
        },
        {
          "output_type": "stream",
          "name": "stderr",
          "text": [
            "Train Epoch 99: 100%|██████████| 391/391 [00:20<00:00, 19.19it/s, acc=81.5, loss=0.519]\n"
          ]
        },
        {
          "output_type": "stream",
          "name": "stdout",
          "text": [
            "Epoch 99: train_loss=0.5191 train_acc=81.54 val_loss=0.4194 val_acc=85.95 lr=0.000231\n"
          ]
        },
        {
          "output_type": "stream",
          "name": "stderr",
          "text": [
            "Train Epoch 100: 100%|██████████| 391/391 [00:20<00:00, 19.48it/s, acc=81.6, loss=0.518]\n"
          ]
        },
        {
          "output_type": "stream",
          "name": "stdout",
          "text": [
            "Epoch 100: train_loss=0.5178 train_acc=81.62 val_loss=0.4174 val_acc=86.32 lr=0.000230\n",
            "Saved best model: 86.32\n"
          ]
        },
        {
          "output_type": "stream",
          "name": "stderr",
          "text": [
            "Train Epoch 101: 100%|██████████| 391/391 [00:20<00:00, 19.15it/s, acc=82.3, loss=0.504]\n"
          ]
        },
        {
          "output_type": "stream",
          "name": "stdout",
          "text": [
            "Epoch 101: train_loss=0.5040 train_acc=82.31 val_loss=0.4302 val_acc=85.99 lr=0.000228\n"
          ]
        },
        {
          "output_type": "stream",
          "name": "stderr",
          "text": [
            "Train Epoch 102: 100%|██████████| 391/391 [00:20<00:00, 19.30it/s, acc=82.1, loss=0.511]\n"
          ]
        },
        {
          "output_type": "stream",
          "name": "stdout",
          "text": [
            "Epoch 102: train_loss=0.5114 train_acc=82.09 val_loss=0.4122 val_acc=86.33 lr=0.000227\n",
            "Saved best model: 86.33\n"
          ]
        },
        {
          "output_type": "stream",
          "name": "stderr",
          "text": [
            "Train Epoch 103: 100%|██████████| 391/391 [00:20<00:00, 19.03it/s, acc=82.1, loss=0.507]\n"
          ]
        },
        {
          "output_type": "stream",
          "name": "stdout",
          "text": [
            "Epoch 103: train_loss=0.5072 train_acc=82.11 val_loss=0.4653 val_acc=85.53 lr=0.000225\n"
          ]
        },
        {
          "output_type": "stream",
          "name": "stderr",
          "text": [
            "Train Epoch 104: 100%|██████████| 391/391 [00:20<00:00, 19.25it/s, acc=81.8, loss=0.514]\n"
          ]
        },
        {
          "output_type": "stream",
          "name": "stdout",
          "text": [
            "Epoch 104: train_loss=0.5140 train_acc=81.81 val_loss=0.4215 val_acc=86.04 lr=0.000224\n"
          ]
        },
        {
          "output_type": "stream",
          "name": "stderr",
          "text": [
            "Train Epoch 105: 100%|██████████| 391/391 [00:20<00:00, 18.99it/s, acc=82.4, loss=0.501]\n"
          ]
        },
        {
          "output_type": "stream",
          "name": "stdout",
          "text": [
            "Epoch 105: train_loss=0.5005 train_acc=82.36 val_loss=0.4168 val_acc=86.33 lr=0.000223\n"
          ]
        },
        {
          "output_type": "stream",
          "name": "stderr",
          "text": [
            "Train Epoch 106: 100%|██████████| 391/391 [00:20<00:00, 19.07it/s, acc=82.6, loss=0.497]\n"
          ]
        },
        {
          "output_type": "stream",
          "name": "stdout",
          "text": [
            "Epoch 106: train_loss=0.4966 train_acc=82.58 val_loss=0.4364 val_acc=86.30 lr=0.000221\n"
          ]
        },
        {
          "output_type": "stream",
          "name": "stderr",
          "text": [
            "Train Epoch 107: 100%|██████████| 391/391 [00:19<00:00, 19.64it/s, acc=82.5, loss=0.495]\n"
          ]
        },
        {
          "output_type": "stream",
          "name": "stdout",
          "text": [
            "Epoch 107: train_loss=0.4952 train_acc=82.45 val_loss=0.4450 val_acc=85.80 lr=0.000220\n"
          ]
        },
        {
          "output_type": "stream",
          "name": "stderr",
          "text": [
            "Train Epoch 108: 100%|██████████| 391/391 [00:20<00:00, 19.45it/s, acc=82.7, loss=0.489]\n"
          ]
        },
        {
          "output_type": "stream",
          "name": "stdout",
          "text": [
            "Epoch 108: train_loss=0.4890 train_acc=82.72 val_loss=0.4331 val_acc=86.36 lr=0.000218\n",
            "Saved best model: 86.36\n"
          ]
        },
        {
          "output_type": "stream",
          "name": "stderr",
          "text": [
            "Train Epoch 109: 100%|██████████| 391/391 [00:20<00:00, 18.95it/s, acc=82.8, loss=0.486]\n"
          ]
        },
        {
          "output_type": "stream",
          "name": "stdout",
          "text": [
            "Epoch 109: train_loss=0.4862 train_acc=82.76 val_loss=0.4144 val_acc=86.39 lr=0.000217\n",
            "Saved best model: 86.39\n"
          ]
        },
        {
          "output_type": "stream",
          "name": "stderr",
          "text": [
            "Train Epoch 110: 100%|██████████| 391/391 [00:20<00:00, 19.00it/s, acc=83, loss=0.48]\n"
          ]
        },
        {
          "output_type": "stream",
          "name": "stdout",
          "text": [
            "Epoch 110: train_loss=0.4803 train_acc=83.04 val_loss=0.4241 val_acc=86.43 lr=0.000216\n",
            "Saved best model: 86.43\n"
          ]
        },
        {
          "output_type": "stream",
          "name": "stderr",
          "text": [
            "Train Epoch 111: 100%|██████████| 391/391 [00:20<00:00, 18.85it/s, acc=83.2, loss=0.476]\n"
          ]
        },
        {
          "output_type": "stream",
          "name": "stdout",
          "text": [
            "Epoch 111: train_loss=0.4759 train_acc=83.20 val_loss=0.3872 val_acc=86.95 lr=0.000214\n",
            "Saved best model: 86.95\n"
          ]
        },
        {
          "output_type": "stream",
          "name": "stderr",
          "text": [
            "Train Epoch 112: 100%|██████████| 391/391 [00:20<00:00, 18.79it/s, acc=83, loss=0.479]\n"
          ]
        },
        {
          "output_type": "stream",
          "name": "stdout",
          "text": [
            "Epoch 112: train_loss=0.4794 train_acc=83.02 val_loss=0.4184 val_acc=86.58 lr=0.000213\n"
          ]
        },
        {
          "output_type": "stream",
          "name": "stderr",
          "text": [
            "Train Epoch 113: 100%|██████████| 391/391 [00:20<00:00, 18.87it/s, acc=83.1, loss=0.479]\n"
          ]
        },
        {
          "output_type": "stream",
          "name": "stdout",
          "text": [
            "Epoch 113: train_loss=0.4787 train_acc=83.09 val_loss=0.3999 val_acc=87.16 lr=0.000211\n",
            "Saved best model: 87.16\n"
          ]
        },
        {
          "output_type": "stream",
          "name": "stderr",
          "text": [
            "Train Epoch 114: 100%|██████████| 391/391 [00:20<00:00, 19.22it/s, acc=83.7, loss=0.467]\n"
          ]
        },
        {
          "output_type": "stream",
          "name": "stdout",
          "text": [
            "Epoch 114: train_loss=0.4671 train_acc=83.66 val_loss=0.4086 val_acc=86.92 lr=0.000210\n"
          ]
        },
        {
          "output_type": "stream",
          "name": "stderr",
          "text": [
            "Train Epoch 115: 100%|██████████| 391/391 [00:20<00:00, 19.19it/s, acc=83.8, loss=0.465]\n"
          ]
        },
        {
          "output_type": "stream",
          "name": "stdout",
          "text": [
            "Epoch 115: train_loss=0.4648 train_acc=83.77 val_loss=0.4172 val_acc=86.71 lr=0.000208\n"
          ]
        },
        {
          "output_type": "stream",
          "name": "stderr",
          "text": [
            "Train Epoch 116: 100%|██████████| 391/391 [00:20<00:00, 18.84it/s, acc=83.7, loss=0.459]\n"
          ]
        },
        {
          "output_type": "stream",
          "name": "stdout",
          "text": [
            "Epoch 116: train_loss=0.4588 train_acc=83.66 val_loss=0.4142 val_acc=86.40 lr=0.000207\n"
          ]
        },
        {
          "output_type": "stream",
          "name": "stderr",
          "text": [
            "Train Epoch 117: 100%|██████████| 391/391 [00:20<00:00, 19.10it/s, acc=83.8, loss=0.463]\n"
          ]
        },
        {
          "output_type": "stream",
          "name": "stdout",
          "text": [
            "Epoch 117: train_loss=0.4629 train_acc=83.83 val_loss=0.4336 val_acc=86.33 lr=0.000205\n"
          ]
        },
        {
          "output_type": "stream",
          "name": "stderr",
          "text": [
            "Train Epoch 118: 100%|██████████| 391/391 [00:20<00:00, 18.74it/s, acc=83.9, loss=0.461]\n"
          ]
        },
        {
          "output_type": "stream",
          "name": "stdout",
          "text": [
            "Epoch 118: train_loss=0.4606 train_acc=83.85 val_loss=0.4058 val_acc=87.28 lr=0.000204\n",
            "Saved best model: 87.28\n"
          ]
        },
        {
          "output_type": "stream",
          "name": "stderr",
          "text": [
            "Train Epoch 119: 100%|██████████| 391/391 [00:20<00:00, 19.02it/s, acc=84.1, loss=0.452]\n"
          ]
        },
        {
          "output_type": "stream",
          "name": "stdout",
          "text": [
            "Epoch 119: train_loss=0.4522 train_acc=84.05 val_loss=0.4047 val_acc=87.06 lr=0.000202\n"
          ]
        },
        {
          "output_type": "stream",
          "name": "stderr",
          "text": [
            "Train Epoch 120: 100%|██████████| 391/391 [00:20<00:00, 19.10it/s, acc=83.9, loss=0.453]\n"
          ]
        },
        {
          "output_type": "stream",
          "name": "stdout",
          "text": [
            "Epoch 120: train_loss=0.4534 train_acc=83.86 val_loss=0.4250 val_acc=86.71 lr=0.000201\n"
          ]
        },
        {
          "output_type": "stream",
          "name": "stderr",
          "text": [
            "Train Epoch 121: 100%|██████████| 391/391 [00:20<00:00, 19.10it/s, acc=84.1, loss=0.452]\n"
          ]
        },
        {
          "output_type": "stream",
          "name": "stdout",
          "text": [
            "Epoch 121: train_loss=0.4522 train_acc=84.10 val_loss=0.4078 val_acc=86.98 lr=0.000199\n"
          ]
        },
        {
          "output_type": "stream",
          "name": "stderr",
          "text": [
            "Train Epoch 122: 100%|██████████| 391/391 [00:20<00:00, 18.81it/s, acc=84.4, loss=0.443]\n"
          ]
        },
        {
          "output_type": "stream",
          "name": "stdout",
          "text": [
            "Epoch 122: train_loss=0.4431 train_acc=84.37 val_loss=0.4043 val_acc=87.24 lr=0.000198\n"
          ]
        },
        {
          "output_type": "stream",
          "name": "stderr",
          "text": [
            "Train Epoch 123: 100%|██████████| 391/391 [00:20<00:00, 19.31it/s, acc=84.4, loss=0.442]\n"
          ]
        },
        {
          "output_type": "stream",
          "name": "stdout",
          "text": [
            "Epoch 123: train_loss=0.4424 train_acc=84.41 val_loss=0.4164 val_acc=87.19 lr=0.000196\n"
          ]
        },
        {
          "output_type": "stream",
          "name": "stderr",
          "text": [
            "Train Epoch 124: 100%|██████████| 391/391 [00:20<00:00, 19.16it/s, acc=84.4, loss=0.441]\n"
          ]
        },
        {
          "output_type": "stream",
          "name": "stdout",
          "text": [
            "Epoch 124: train_loss=0.4414 train_acc=84.35 val_loss=0.4109 val_acc=86.99 lr=0.000195\n"
          ]
        },
        {
          "output_type": "stream",
          "name": "stderr",
          "text": [
            "Train Epoch 125: 100%|██████████| 391/391 [00:20<00:00, 19.29it/s, acc=84.3, loss=0.441]\n"
          ]
        },
        {
          "output_type": "stream",
          "name": "stdout",
          "text": [
            "Epoch 125: train_loss=0.4407 train_acc=84.33 val_loss=0.4544 val_acc=86.10 lr=0.000193\n"
          ]
        },
        {
          "output_type": "stream",
          "name": "stderr",
          "text": [
            "Train Epoch 126: 100%|██████████| 391/391 [00:20<00:00, 19.52it/s, acc=84.5, loss=0.434]\n"
          ]
        },
        {
          "output_type": "stream",
          "name": "stdout",
          "text": [
            "Epoch 126: train_loss=0.4338 train_acc=84.54 val_loss=0.4325 val_acc=86.88 lr=0.000192\n"
          ]
        },
        {
          "output_type": "stream",
          "name": "stderr",
          "text": [
            "Train Epoch 127: 100%|██████████| 391/391 [00:20<00:00, 19.00it/s, acc=85.1, loss=0.425]\n"
          ]
        },
        {
          "output_type": "stream",
          "name": "stdout",
          "text": [
            "Epoch 127: train_loss=0.4248 train_acc=85.10 val_loss=0.4008 val_acc=87.22 lr=0.000190\n"
          ]
        },
        {
          "output_type": "stream",
          "name": "stderr",
          "text": [
            "Train Epoch 128: 100%|██████████| 391/391 [00:20<00:00, 19.28it/s, acc=84.7, loss=0.43]\n"
          ]
        },
        {
          "output_type": "stream",
          "name": "stdout",
          "text": [
            "Epoch 128: train_loss=0.4298 train_acc=84.72 val_loss=0.4129 val_acc=87.15 lr=0.000189\n"
          ]
        },
        {
          "output_type": "stream",
          "name": "stderr",
          "text": [
            "Train Epoch 129: 100%|██████████| 391/391 [00:20<00:00, 19.48it/s, acc=85.3, loss=0.424]\n"
          ]
        },
        {
          "output_type": "stream",
          "name": "stdout",
          "text": [
            "Epoch 129: train_loss=0.4244 train_acc=85.30 val_loss=0.4243 val_acc=86.92 lr=0.000187\n"
          ]
        },
        {
          "output_type": "stream",
          "name": "stderr",
          "text": [
            "Train Epoch 130: 100%|██████████| 391/391 [00:20<00:00, 19.32it/s, acc=85.1, loss=0.423]\n"
          ]
        },
        {
          "output_type": "stream",
          "name": "stdout",
          "text": [
            "Epoch 130: train_loss=0.4229 train_acc=85.13 val_loss=0.4311 val_acc=86.59 lr=0.000186\n"
          ]
        },
        {
          "output_type": "stream",
          "name": "stderr",
          "text": [
            "Train Epoch 131: 100%|██████████| 391/391 [00:20<00:00, 18.97it/s, acc=85, loss=0.427]\n"
          ]
        },
        {
          "output_type": "stream",
          "name": "stdout",
          "text": [
            "Epoch 131: train_loss=0.4267 train_acc=84.99 val_loss=0.3972 val_acc=87.45 lr=0.000184\n",
            "Saved best model: 87.45\n"
          ]
        },
        {
          "output_type": "stream",
          "name": "stderr",
          "text": [
            "Train Epoch 132: 100%|██████████| 391/391 [00:20<00:00, 19.13it/s, acc=85, loss=0.421]\n"
          ]
        },
        {
          "output_type": "stream",
          "name": "stdout",
          "text": [
            "Epoch 132: train_loss=0.4214 train_acc=85.00 val_loss=0.4017 val_acc=87.66 lr=0.000182\n",
            "Saved best model: 87.66\n"
          ]
        },
        {
          "output_type": "stream",
          "name": "stderr",
          "text": [
            "Train Epoch 133: 100%|██████████| 391/391 [00:20<00:00, 19.38it/s, acc=85.3, loss=0.414]\n"
          ]
        },
        {
          "output_type": "stream",
          "name": "stdout",
          "text": [
            "Epoch 133: train_loss=0.4141 train_acc=85.33 val_loss=0.4138 val_acc=87.19 lr=0.000181\n"
          ]
        },
        {
          "output_type": "stream",
          "name": "stderr",
          "text": [
            "Train Epoch 134: 100%|██████████| 391/391 [00:20<00:00, 18.97it/s, acc=85.4, loss=0.414]\n"
          ]
        },
        {
          "output_type": "stream",
          "name": "stdout",
          "text": [
            "Epoch 134: train_loss=0.4145 train_acc=85.39 val_loss=0.4195 val_acc=87.25 lr=0.000179\n"
          ]
        },
        {
          "output_type": "stream",
          "name": "stderr",
          "text": [
            "Train Epoch 135: 100%|██████████| 391/391 [00:20<00:00, 19.39it/s, acc=85.6, loss=0.405]\n"
          ]
        },
        {
          "output_type": "stream",
          "name": "stdout",
          "text": [
            "Epoch 135: train_loss=0.4046 train_acc=85.57 val_loss=0.4133 val_acc=87.26 lr=0.000178\n"
          ]
        },
        {
          "output_type": "stream",
          "name": "stderr",
          "text": [
            "Train Epoch 136: 100%|██████████| 391/391 [00:20<00:00, 19.28it/s, acc=85.8, loss=0.404]\n"
          ]
        },
        {
          "output_type": "stream",
          "name": "stdout",
          "text": [
            "Epoch 136: train_loss=0.4043 train_acc=85.80 val_loss=0.4051 val_acc=87.48 lr=0.000176\n"
          ]
        },
        {
          "output_type": "stream",
          "name": "stderr",
          "text": [
            "Train Epoch 137: 100%|██████████| 391/391 [00:20<00:00, 19.37it/s, acc=85.9, loss=0.402]\n"
          ]
        },
        {
          "output_type": "stream",
          "name": "stdout",
          "text": [
            "Epoch 137: train_loss=0.4024 train_acc=85.87 val_loss=0.4105 val_acc=87.30 lr=0.000175\n"
          ]
        },
        {
          "output_type": "stream",
          "name": "stderr",
          "text": [
            "Train Epoch 138: 100%|██████████| 391/391 [00:20<00:00, 19.30it/s, acc=85.8, loss=0.407]\n"
          ]
        },
        {
          "output_type": "stream",
          "name": "stdout",
          "text": [
            "Epoch 138: train_loss=0.4067 train_acc=85.77 val_loss=0.4120 val_acc=87.46 lr=0.000173\n"
          ]
        },
        {
          "output_type": "stream",
          "name": "stderr",
          "text": [
            "Train Epoch 139: 100%|██████████| 391/391 [00:20<00:00, 19.44it/s, acc=85.9, loss=0.402]\n"
          ]
        },
        {
          "output_type": "stream",
          "name": "stdout",
          "text": [
            "Epoch 139: train_loss=0.4023 train_acc=85.85 val_loss=0.4031 val_acc=87.91 lr=0.000171\n",
            "Saved best model: 87.91\n"
          ]
        },
        {
          "output_type": "stream",
          "name": "stderr",
          "text": [
            "Train Epoch 140: 100%|██████████| 391/391 [00:20<00:00, 19.32it/s, acc=85.9, loss=0.401]\n"
          ]
        },
        {
          "output_type": "stream",
          "name": "stdout",
          "text": [
            "Epoch 140: train_loss=0.4012 train_acc=85.92 val_loss=0.4103 val_acc=87.85 lr=0.000170\n"
          ]
        },
        {
          "output_type": "stream",
          "name": "stderr",
          "text": [
            "Train Epoch 141: 100%|██████████| 391/391 [00:20<00:00, 19.15it/s, acc=86, loss=0.397]\n"
          ]
        },
        {
          "output_type": "stream",
          "name": "stdout",
          "text": [
            "Epoch 141: train_loss=0.3974 train_acc=86.02 val_loss=0.3994 val_acc=87.89 lr=0.000168\n"
          ]
        },
        {
          "output_type": "stream",
          "name": "stderr",
          "text": [
            "Train Epoch 142: 100%|██████████| 391/391 [00:20<00:00, 19.06it/s, acc=86.2, loss=0.395]\n"
          ]
        },
        {
          "output_type": "stream",
          "name": "stdout",
          "text": [
            "Epoch 142: train_loss=0.3949 train_acc=86.15 val_loss=0.4196 val_acc=87.27 lr=0.000167\n"
          ]
        },
        {
          "output_type": "stream",
          "name": "stderr",
          "text": [
            "Train Epoch 143: 100%|██████████| 391/391 [00:20<00:00, 19.48it/s, acc=86.2, loss=0.393]\n"
          ]
        },
        {
          "output_type": "stream",
          "name": "stdout",
          "text": [
            "Epoch 143: train_loss=0.3932 train_acc=86.18 val_loss=0.4119 val_acc=87.34 lr=0.000165\n"
          ]
        },
        {
          "output_type": "stream",
          "name": "stderr",
          "text": [
            "Train Epoch 144: 100%|██████████| 391/391 [00:20<00:00, 18.94it/s, acc=86.2, loss=0.393]\n"
          ]
        },
        {
          "output_type": "stream",
          "name": "stdout",
          "text": [
            "Epoch 144: train_loss=0.3926 train_acc=86.23 val_loss=0.4122 val_acc=87.71 lr=0.000164\n"
          ]
        },
        {
          "output_type": "stream",
          "name": "stderr",
          "text": [
            "Train Epoch 145: 100%|██████████| 391/391 [00:20<00:00, 19.27it/s, acc=86.3, loss=0.383]\n"
          ]
        },
        {
          "output_type": "stream",
          "name": "stdout",
          "text": [
            "Epoch 145: train_loss=0.3835 train_acc=86.29 val_loss=0.3919 val_acc=87.77 lr=0.000162\n"
          ]
        },
        {
          "output_type": "stream",
          "name": "stderr",
          "text": [
            "Train Epoch 146: 100%|██████████| 391/391 [00:20<00:00, 19.00it/s, acc=86.5, loss=0.382]\n"
          ]
        },
        {
          "output_type": "stream",
          "name": "stdout",
          "text": [
            "Epoch 146: train_loss=0.3818 train_acc=86.52 val_loss=0.4066 val_acc=87.82 lr=0.000160\n"
          ]
        },
        {
          "output_type": "stream",
          "name": "stderr",
          "text": [
            "Train Epoch 147: 100%|██████████| 391/391 [00:20<00:00, 19.11it/s, acc=86.3, loss=0.385]\n"
          ]
        },
        {
          "output_type": "stream",
          "name": "stdout",
          "text": [
            "Epoch 147: train_loss=0.3852 train_acc=86.30 val_loss=0.3984 val_acc=87.90 lr=0.000159\n"
          ]
        },
        {
          "output_type": "stream",
          "name": "stderr",
          "text": [
            "Train Epoch 148: 100%|██████████| 391/391 [00:20<00:00, 19.50it/s, acc=86.9, loss=0.373]\n"
          ]
        },
        {
          "output_type": "stream",
          "name": "stdout",
          "text": [
            "Epoch 148: train_loss=0.3727 train_acc=86.90 val_loss=0.4035 val_acc=87.67 lr=0.000157\n"
          ]
        },
        {
          "output_type": "stream",
          "name": "stderr",
          "text": [
            "Train Epoch 149: 100%|██████████| 391/391 [00:20<00:00, 19.06it/s, acc=86.8, loss=0.373]\n"
          ]
        },
        {
          "output_type": "stream",
          "name": "stdout",
          "text": [
            "Epoch 149: train_loss=0.3729 train_acc=86.81 val_loss=0.4140 val_acc=87.76 lr=0.000156\n"
          ]
        },
        {
          "output_type": "stream",
          "name": "stderr",
          "text": [
            "Train Epoch 150: 100%|██████████| 391/391 [00:20<00:00, 19.35it/s, acc=86.7, loss=0.378]\n"
          ]
        },
        {
          "output_type": "stream",
          "name": "stdout",
          "text": [
            "Epoch 150: train_loss=0.3777 train_acc=86.74 val_loss=0.4312 val_acc=87.19 lr=0.000154\n"
          ]
        },
        {
          "output_type": "stream",
          "name": "stderr",
          "text": [
            "Train Epoch 151: 100%|██████████| 391/391 [00:20<00:00, 19.17it/s, acc=86.9, loss=0.371]\n"
          ]
        },
        {
          "output_type": "stream",
          "name": "stdout",
          "text": [
            "Epoch 151: train_loss=0.3705 train_acc=86.88 val_loss=0.4048 val_acc=87.84 lr=0.000152\n"
          ]
        },
        {
          "output_type": "stream",
          "name": "stderr",
          "text": [
            "Train Epoch 152: 100%|██████████| 391/391 [00:20<00:00, 19.03it/s, acc=86.9, loss=0.369]\n"
          ]
        },
        {
          "output_type": "stream",
          "name": "stdout",
          "text": [
            "Epoch 152: train_loss=0.3689 train_acc=86.92 val_loss=0.4240 val_acc=88.05 lr=0.000151\n",
            "Saved best model: 88.05\n"
          ]
        },
        {
          "output_type": "stream",
          "name": "stderr",
          "text": [
            "Train Epoch 153: 100%|██████████| 391/391 [00:20<00:00, 19.00it/s, acc=87, loss=0.368]\n"
          ]
        },
        {
          "output_type": "stream",
          "name": "stdout",
          "text": [
            "Epoch 153: train_loss=0.3677 train_acc=86.99 val_loss=0.3863 val_acc=88.24 lr=0.000149\n",
            "Saved best model: 88.24\n"
          ]
        },
        {
          "output_type": "stream",
          "name": "stderr",
          "text": [
            "Train Epoch 154: 100%|██████████| 391/391 [00:20<00:00, 18.95it/s, acc=86.9, loss=0.372]\n"
          ]
        },
        {
          "output_type": "stream",
          "name": "stdout",
          "text": [
            "Epoch 154: train_loss=0.3718 train_acc=86.90 val_loss=0.4008 val_acc=88.14 lr=0.000148\n"
          ]
        },
        {
          "output_type": "stream",
          "name": "stderr",
          "text": [
            "Train Epoch 155: 100%|██████████| 391/391 [00:20<00:00, 19.34it/s, acc=87.3, loss=0.364]\n"
          ]
        },
        {
          "output_type": "stream",
          "name": "stdout",
          "text": [
            "Epoch 155: train_loss=0.3635 train_acc=87.25 val_loss=0.4143 val_acc=87.62 lr=0.000146\n"
          ]
        },
        {
          "output_type": "stream",
          "name": "stderr",
          "text": [
            "Train Epoch 156: 100%|██████████| 391/391 [00:20<00:00, 18.98it/s, acc=87.2, loss=0.364]\n"
          ]
        },
        {
          "output_type": "stream",
          "name": "stdout",
          "text": [
            "Epoch 156: train_loss=0.3639 train_acc=87.22 val_loss=0.4077 val_acc=87.70 lr=0.000144\n"
          ]
        },
        {
          "output_type": "stream",
          "name": "stderr",
          "text": [
            "Train Epoch 157: 100%|██████████| 391/391 [00:20<00:00, 19.46it/s, acc=87.2, loss=0.362]\n"
          ]
        },
        {
          "output_type": "stream",
          "name": "stdout",
          "text": [
            "Epoch 157: train_loss=0.3624 train_acc=87.24 val_loss=0.4056 val_acc=87.98 lr=0.000143\n"
          ]
        },
        {
          "output_type": "stream",
          "name": "stderr",
          "text": [
            "Train Epoch 158: 100%|██████████| 391/391 [00:20<00:00, 19.19it/s, acc=87.3, loss=0.358]\n"
          ]
        },
        {
          "output_type": "stream",
          "name": "stdout",
          "text": [
            "Epoch 158: train_loss=0.3578 train_acc=87.35 val_loss=0.4090 val_acc=87.94 lr=0.000141\n"
          ]
        },
        {
          "output_type": "stream",
          "name": "stderr",
          "text": [
            "Train Epoch 159: 100%|██████████| 391/391 [00:20<00:00, 19.18it/s, acc=87.4, loss=0.359]\n"
          ]
        },
        {
          "output_type": "stream",
          "name": "stdout",
          "text": [
            "Epoch 159: train_loss=0.3588 train_acc=87.38 val_loss=0.4268 val_acc=87.65 lr=0.000140\n"
          ]
        },
        {
          "output_type": "stream",
          "name": "stderr",
          "text": [
            "Train Epoch 160: 100%|██████████| 391/391 [00:20<00:00, 19.23it/s, acc=87.3, loss=0.354]\n"
          ]
        },
        {
          "output_type": "stream",
          "name": "stdout",
          "text": [
            "Epoch 160: train_loss=0.3543 train_acc=87.27 val_loss=0.4322 val_acc=87.85 lr=0.000138\n"
          ]
        },
        {
          "output_type": "stream",
          "name": "stderr",
          "text": [
            "Train Epoch 161: 100%|██████████| 391/391 [00:20<00:00, 19.18it/s, acc=87.7, loss=0.349]\n"
          ]
        },
        {
          "output_type": "stream",
          "name": "stdout",
          "text": [
            "Epoch 161: train_loss=0.3493 train_acc=87.74 val_loss=0.3949 val_acc=88.19 lr=0.000136\n"
          ]
        },
        {
          "output_type": "stream",
          "name": "stderr",
          "text": [
            "Train Epoch 162: 100%|██████████| 391/391 [00:19<00:00, 19.60it/s, acc=87.6, loss=0.355]\n"
          ]
        },
        {
          "output_type": "stream",
          "name": "stdout",
          "text": [
            "Epoch 162: train_loss=0.3553 train_acc=87.59 val_loss=0.4032 val_acc=88.08 lr=0.000135\n"
          ]
        },
        {
          "output_type": "stream",
          "name": "stderr",
          "text": [
            "Train Epoch 163: 100%|██████████| 391/391 [00:20<00:00, 19.04it/s, acc=87.8, loss=0.348]\n"
          ]
        },
        {
          "output_type": "stream",
          "name": "stdout",
          "text": [
            "Epoch 163: train_loss=0.3482 train_acc=87.84 val_loss=0.3934 val_acc=88.11 lr=0.000133\n"
          ]
        },
        {
          "output_type": "stream",
          "name": "stderr",
          "text": [
            "Train Epoch 164: 100%|██████████| 391/391 [00:20<00:00, 19.30it/s, acc=87.8, loss=0.345]\n"
          ]
        },
        {
          "output_type": "stream",
          "name": "stdout",
          "text": [
            "Epoch 164: train_loss=0.3452 train_acc=87.79 val_loss=0.4070 val_acc=87.98 lr=0.000132\n"
          ]
        },
        {
          "output_type": "stream",
          "name": "stderr",
          "text": [
            "Train Epoch 165: 100%|██████████| 391/391 [00:20<00:00, 19.41it/s, acc=87.8, loss=0.344]\n"
          ]
        },
        {
          "output_type": "stream",
          "name": "stdout",
          "text": [
            "Epoch 165: train_loss=0.3444 train_acc=87.79 val_loss=0.4075 val_acc=88.24 lr=0.000130\n"
          ]
        },
        {
          "output_type": "stream",
          "name": "stderr",
          "text": [
            "Train Epoch 166: 100%|██████████| 391/391 [00:20<00:00, 18.99it/s, acc=87.9, loss=0.343]\n"
          ]
        },
        {
          "output_type": "stream",
          "name": "stdout",
          "text": [
            "Epoch 166: train_loss=0.3429 train_acc=87.92 val_loss=0.4112 val_acc=88.07 lr=0.000129\n"
          ]
        },
        {
          "output_type": "stream",
          "name": "stderr",
          "text": [
            "Train Epoch 167: 100%|██████████| 391/391 [00:20<00:00, 19.19it/s, acc=88.2, loss=0.34]\n"
          ]
        },
        {
          "output_type": "stream",
          "name": "stdout",
          "text": [
            "Epoch 167: train_loss=0.3399 train_acc=88.19 val_loss=0.4057 val_acc=88.35 lr=0.000127\n",
            "Saved best model: 88.35\n"
          ]
        },
        {
          "output_type": "stream",
          "name": "stderr",
          "text": [
            "Train Epoch 168: 100%|██████████| 391/391 [00:20<00:00, 19.20it/s, acc=88.2, loss=0.335]\n"
          ]
        },
        {
          "output_type": "stream",
          "name": "stdout",
          "text": [
            "Epoch 168: train_loss=0.3351 train_acc=88.15 val_loss=0.4005 val_acc=88.22 lr=0.000125\n"
          ]
        },
        {
          "output_type": "stream",
          "name": "stderr",
          "text": [
            "Train Epoch 169: 100%|██████████| 391/391 [00:20<00:00, 19.25it/s, acc=88.1, loss=0.339]\n"
          ]
        },
        {
          "output_type": "stream",
          "name": "stdout",
          "text": [
            "Epoch 169: train_loss=0.3395 train_acc=88.07 val_loss=0.3772 val_acc=89.02 lr=0.000124\n",
            "Saved best model: 89.02\n"
          ]
        },
        {
          "output_type": "stream",
          "name": "stderr",
          "text": [
            "Train Epoch 170: 100%|██████████| 391/391 [00:20<00:00, 19.50it/s, acc=88.2, loss=0.338]\n"
          ]
        },
        {
          "output_type": "stream",
          "name": "stdout",
          "text": [
            "Epoch 170: train_loss=0.3378 train_acc=88.17 val_loss=0.3926 val_acc=88.50 lr=0.000122\n"
          ]
        },
        {
          "output_type": "stream",
          "name": "stderr",
          "text": [
            "Train Epoch 171: 100%|██████████| 391/391 [00:20<00:00, 19.07it/s, acc=88.6, loss=0.331]\n"
          ]
        },
        {
          "output_type": "stream",
          "name": "stdout",
          "text": [
            "Epoch 171: train_loss=0.3313 train_acc=88.62 val_loss=0.4162 val_acc=88.27 lr=0.000121\n"
          ]
        },
        {
          "output_type": "stream",
          "name": "stderr",
          "text": [
            "Train Epoch 172: 100%|██████████| 391/391 [00:20<00:00, 18.88it/s, acc=88.4, loss=0.331]\n"
          ]
        },
        {
          "output_type": "stream",
          "name": "stdout",
          "text": [
            "Epoch 172: train_loss=0.3313 train_acc=88.40 val_loss=0.4038 val_acc=88.68 lr=0.000119\n"
          ]
        },
        {
          "output_type": "stream",
          "name": "stderr",
          "text": [
            "Train Epoch 173: 100%|██████████| 391/391 [00:20<00:00, 19.23it/s, acc=88.3, loss=0.334]\n"
          ]
        },
        {
          "output_type": "stream",
          "name": "stdout",
          "text": [
            "Epoch 173: train_loss=0.3343 train_acc=88.28 val_loss=0.4107 val_acc=88.37 lr=0.000118\n"
          ]
        },
        {
          "output_type": "stream",
          "name": "stderr",
          "text": [
            "Train Epoch 174: 100%|██████████| 391/391 [00:20<00:00, 18.99it/s, acc=88.5, loss=0.33]\n"
          ]
        },
        {
          "output_type": "stream",
          "name": "stdout",
          "text": [
            "Epoch 174: train_loss=0.3304 train_acc=88.50 val_loss=0.4070 val_acc=88.54 lr=0.000116\n"
          ]
        },
        {
          "output_type": "stream",
          "name": "stderr",
          "text": [
            "Train Epoch 175: 100%|██████████| 391/391 [00:20<00:00, 19.24it/s, acc=88.5, loss=0.329]\n"
          ]
        },
        {
          "output_type": "stream",
          "name": "stdout",
          "text": [
            "Epoch 175: train_loss=0.3288 train_acc=88.47 val_loss=0.4226 val_acc=88.03 lr=0.000114\n"
          ]
        },
        {
          "output_type": "stream",
          "name": "stderr",
          "text": [
            "Train Epoch 176: 100%|██████████| 391/391 [00:20<00:00, 19.19it/s, acc=88.5, loss=0.324]\n"
          ]
        },
        {
          "output_type": "stream",
          "name": "stdout",
          "text": [
            "Epoch 176: train_loss=0.3242 train_acc=88.53 val_loss=0.3980 val_acc=88.58 lr=0.000113\n"
          ]
        },
        {
          "output_type": "stream",
          "name": "stderr",
          "text": [
            "Train Epoch 177: 100%|██████████| 391/391 [00:20<00:00, 19.35it/s, acc=88.8, loss=0.321]\n"
          ]
        },
        {
          "output_type": "stream",
          "name": "stdout",
          "text": [
            "Epoch 177: train_loss=0.3208 train_acc=88.81 val_loss=0.4106 val_acc=88.55 lr=0.000111\n"
          ]
        },
        {
          "output_type": "stream",
          "name": "stderr",
          "text": [
            "Train Epoch 178: 100%|██████████| 391/391 [00:20<00:00, 19.03it/s, acc=88.6, loss=0.324]\n"
          ]
        },
        {
          "output_type": "stream",
          "name": "stdout",
          "text": [
            "Epoch 178: train_loss=0.3238 train_acc=88.62 val_loss=0.4300 val_acc=88.13 lr=0.000110\n"
          ]
        },
        {
          "output_type": "stream",
          "name": "stderr",
          "text": [
            "Train Epoch 179: 100%|██████████| 391/391 [00:20<00:00, 18.99it/s, acc=88.8, loss=0.322]\n"
          ]
        },
        {
          "output_type": "stream",
          "name": "stdout",
          "text": [
            "Epoch 179: train_loss=0.3218 train_acc=88.76 val_loss=0.4043 val_acc=88.75 lr=0.000108\n"
          ]
        },
        {
          "output_type": "stream",
          "name": "stderr",
          "text": [
            "Train Epoch 180: 100%|██████████| 391/391 [00:20<00:00, 19.20it/s, acc=88.8, loss=0.317]\n"
          ]
        },
        {
          "output_type": "stream",
          "name": "stdout",
          "text": [
            "Epoch 180: train_loss=0.3168 train_acc=88.81 val_loss=0.3989 val_acc=88.54 lr=0.000107\n"
          ]
        },
        {
          "output_type": "stream",
          "name": "stderr",
          "text": [
            "Train Epoch 181: 100%|██████████| 391/391 [00:20<00:00, 19.22it/s, acc=88.9, loss=0.315]\n"
          ]
        },
        {
          "output_type": "stream",
          "name": "stdout",
          "text": [
            "Epoch 181: train_loss=0.3147 train_acc=88.90 val_loss=0.4315 val_acc=87.88 lr=0.000105\n"
          ]
        },
        {
          "output_type": "stream",
          "name": "stderr",
          "text": [
            "Train Epoch 182: 100%|██████████| 391/391 [00:20<00:00, 18.98it/s, acc=89, loss=0.315]\n"
          ]
        },
        {
          "output_type": "stream",
          "name": "stdout",
          "text": [
            "Epoch 182: train_loss=0.3154 train_acc=88.98 val_loss=0.3978 val_acc=88.74 lr=0.000104\n"
          ]
        },
        {
          "output_type": "stream",
          "name": "stderr",
          "text": [
            "Train Epoch 183: 100%|██████████| 391/391 [00:20<00:00, 19.01it/s, acc=89, loss=0.312]\n"
          ]
        },
        {
          "output_type": "stream",
          "name": "stdout",
          "text": [
            "Epoch 183: train_loss=0.3121 train_acc=89.00 val_loss=0.4050 val_acc=88.87 lr=0.000102\n"
          ]
        },
        {
          "output_type": "stream",
          "name": "stderr",
          "text": [
            "Train Epoch 184: 100%|██████████| 391/391 [00:20<00:00, 19.24it/s, acc=88.8, loss=0.317]\n"
          ]
        },
        {
          "output_type": "stream",
          "name": "stdout",
          "text": [
            "Epoch 184: train_loss=0.3168 train_acc=88.84 val_loss=0.4005 val_acc=88.74 lr=0.000101\n"
          ]
        },
        {
          "output_type": "stream",
          "name": "stderr",
          "text": [
            "Train Epoch 185: 100%|██████████| 391/391 [00:20<00:00, 19.05it/s, acc=89.2, loss=0.306]\n"
          ]
        },
        {
          "output_type": "stream",
          "name": "stdout",
          "text": [
            "Epoch 185: train_loss=0.3059 train_acc=89.22 val_loss=0.4086 val_acc=88.47 lr=0.000099\n"
          ]
        },
        {
          "output_type": "stream",
          "name": "stderr",
          "text": [
            "Train Epoch 186: 100%|██████████| 391/391 [00:20<00:00, 19.07it/s, acc=89.2, loss=0.31]\n"
          ]
        },
        {
          "output_type": "stream",
          "name": "stdout",
          "text": [
            "Epoch 186: train_loss=0.3103 train_acc=89.19 val_loss=0.4247 val_acc=88.37 lr=0.000098\n"
          ]
        },
        {
          "output_type": "stream",
          "name": "stderr",
          "text": [
            "Train Epoch 187: 100%|██████████| 391/391 [00:20<00:00, 19.15it/s, acc=89.2, loss=0.308]\n"
          ]
        },
        {
          "output_type": "stream",
          "name": "stdout",
          "text": [
            "Epoch 187: train_loss=0.3079 train_acc=89.22 val_loss=0.4018 val_acc=88.75 lr=0.000096\n"
          ]
        },
        {
          "output_type": "stream",
          "name": "stderr",
          "text": [
            "Train Epoch 188: 100%|██████████| 391/391 [00:20<00:00, 19.34it/s, acc=89.3, loss=0.307]\n"
          ]
        },
        {
          "output_type": "stream",
          "name": "stdout",
          "text": [
            "Epoch 188: train_loss=0.3066 train_acc=89.29 val_loss=0.4006 val_acc=88.92 lr=0.000095\n"
          ]
        },
        {
          "output_type": "stream",
          "name": "stderr",
          "text": [
            "Train Epoch 189: 100%|██████████| 391/391 [00:20<00:00, 19.32it/s, acc=89.4, loss=0.303]\n"
          ]
        },
        {
          "output_type": "stream",
          "name": "stdout",
          "text": [
            "Epoch 189: train_loss=0.3026 train_acc=89.37 val_loss=0.4047 val_acc=88.88 lr=0.000093\n"
          ]
        },
        {
          "output_type": "stream",
          "name": "stderr",
          "text": [
            "Train Epoch 190: 100%|██████████| 391/391 [00:20<00:00, 18.90it/s, acc=89.7, loss=0.295]\n"
          ]
        },
        {
          "output_type": "stream",
          "name": "stdout",
          "text": [
            "Epoch 190: train_loss=0.2949 train_acc=89.67 val_loss=0.4071 val_acc=88.81 lr=0.000092\n"
          ]
        },
        {
          "output_type": "stream",
          "name": "stderr",
          "text": [
            "Train Epoch 191: 100%|██████████| 391/391 [00:20<00:00, 19.13it/s, acc=89.4, loss=0.3]\n"
          ]
        },
        {
          "output_type": "stream",
          "name": "stdout",
          "text": [
            "Epoch 191: train_loss=0.2997 train_acc=89.43 val_loss=0.4043 val_acc=88.68 lr=0.000090\n"
          ]
        },
        {
          "output_type": "stream",
          "name": "stderr",
          "text": [
            "Train Epoch 192: 100%|██████████| 391/391 [00:20<00:00, 19.17it/s, acc=89.4, loss=0.304]\n"
          ]
        },
        {
          "output_type": "stream",
          "name": "stdout",
          "text": [
            "Epoch 192: train_loss=0.3040 train_acc=89.41 val_loss=0.4004 val_acc=88.59 lr=0.000089\n"
          ]
        },
        {
          "output_type": "stream",
          "name": "stderr",
          "text": [
            "Train Epoch 193: 100%|██████████| 391/391 [00:20<00:00, 18.88it/s, acc=89.7, loss=0.296]\n"
          ]
        },
        {
          "output_type": "stream",
          "name": "stdout",
          "text": [
            "Epoch 193: train_loss=0.2963 train_acc=89.68 val_loss=0.3854 val_acc=89.42 lr=0.000087\n",
            "Saved best model: 89.42\n"
          ]
        },
        {
          "output_type": "stream",
          "name": "stderr",
          "text": [
            "Train Epoch 194: 100%|██████████| 391/391 [00:20<00:00, 18.91it/s, acc=89.6, loss=0.297]\n"
          ]
        },
        {
          "output_type": "stream",
          "name": "stdout",
          "text": [
            "Epoch 194: train_loss=0.2973 train_acc=89.61 val_loss=0.3976 val_acc=88.89 lr=0.000086\n"
          ]
        },
        {
          "output_type": "stream",
          "name": "stderr",
          "text": [
            "Train Epoch 195: 100%|██████████| 391/391 [00:20<00:00, 19.16it/s, acc=89.8, loss=0.292]\n"
          ]
        },
        {
          "output_type": "stream",
          "name": "stdout",
          "text": [
            "Epoch 195: train_loss=0.2922 train_acc=89.76 val_loss=0.3891 val_acc=89.05 lr=0.000084\n"
          ]
        },
        {
          "output_type": "stream",
          "name": "stderr",
          "text": [
            "Train Epoch 196: 100%|██████████| 391/391 [00:20<00:00, 19.05it/s, acc=89.8, loss=0.29]\n"
          ]
        },
        {
          "output_type": "stream",
          "name": "stdout",
          "text": [
            "Epoch 196: train_loss=0.2899 train_acc=89.84 val_loss=0.4067 val_acc=88.82 lr=0.000083\n"
          ]
        },
        {
          "output_type": "stream",
          "name": "stderr",
          "text": [
            "Train Epoch 197: 100%|██████████| 391/391 [00:20<00:00, 19.00it/s, acc=89.6, loss=0.293]\n"
          ]
        },
        {
          "output_type": "stream",
          "name": "stdout",
          "text": [
            "Epoch 197: train_loss=0.2930 train_acc=89.59 val_loss=0.4119 val_acc=88.78 lr=0.000082\n"
          ]
        },
        {
          "output_type": "stream",
          "name": "stderr",
          "text": [
            "Train Epoch 198: 100%|██████████| 391/391 [00:20<00:00, 19.42it/s, acc=90, loss=0.288]\n"
          ]
        },
        {
          "output_type": "stream",
          "name": "stdout",
          "text": [
            "Epoch 198: train_loss=0.2877 train_acc=89.99 val_loss=0.4134 val_acc=88.82 lr=0.000080\n"
          ]
        },
        {
          "output_type": "stream",
          "name": "stderr",
          "text": [
            "Train Epoch 199: 100%|██████████| 391/391 [00:20<00:00, 19.43it/s, acc=90, loss=0.287]\n"
          ]
        },
        {
          "output_type": "stream",
          "name": "stdout",
          "text": [
            "Epoch 199: train_loss=0.2872 train_acc=90.05 val_loss=0.4062 val_acc=88.93 lr=0.000079\n"
          ]
        },
        {
          "output_type": "stream",
          "name": "stderr",
          "text": [
            "Train Epoch 200: 100%|██████████| 391/391 [00:20<00:00, 19.34it/s, acc=90, loss=0.288]\n"
          ]
        },
        {
          "output_type": "stream",
          "name": "stdout",
          "text": [
            "Epoch 200: train_loss=0.2875 train_acc=89.99 val_loss=0.3988 val_acc=89.16 lr=0.000077\n"
          ]
        },
        {
          "output_type": "stream",
          "name": "stderr",
          "text": [
            "Train Epoch 201: 100%|██████████| 391/391 [00:20<00:00, 19.22it/s, acc=90.1, loss=0.283]\n"
          ]
        },
        {
          "output_type": "stream",
          "name": "stdout",
          "text": [
            "Epoch 201: train_loss=0.2834 train_acc=90.10 val_loss=0.4159 val_acc=88.81 lr=0.000076\n"
          ]
        },
        {
          "output_type": "stream",
          "name": "stderr",
          "text": [
            "Train Epoch 202: 100%|██████████| 391/391 [00:20<00:00, 19.13it/s, acc=90.1, loss=0.284]\n"
          ]
        },
        {
          "output_type": "stream",
          "name": "stdout",
          "text": [
            "Epoch 202: train_loss=0.2837 train_acc=90.10 val_loss=0.4117 val_acc=89.04 lr=0.000075\n"
          ]
        },
        {
          "output_type": "stream",
          "name": "stderr",
          "text": [
            "Train Epoch 203: 100%|██████████| 391/391 [00:20<00:00, 19.08it/s, acc=90.1, loss=0.283]\n"
          ]
        },
        {
          "output_type": "stream",
          "name": "stdout",
          "text": [
            "Epoch 203: train_loss=0.2830 train_acc=90.12 val_loss=0.4367 val_acc=88.40 lr=0.000073\n"
          ]
        },
        {
          "output_type": "stream",
          "name": "stderr",
          "text": [
            "Train Epoch 204: 100%|██████████| 391/391 [00:20<00:00, 19.14it/s, acc=90.2, loss=0.283]\n"
          ]
        },
        {
          "output_type": "stream",
          "name": "stdout",
          "text": [
            "Epoch 204: train_loss=0.2830 train_acc=90.21 val_loss=0.4081 val_acc=89.06 lr=0.000072\n"
          ]
        },
        {
          "output_type": "stream",
          "name": "stderr",
          "text": [
            "Train Epoch 205: 100%|██████████| 391/391 [00:20<00:00, 19.45it/s, acc=90.2, loss=0.28]\n"
          ]
        },
        {
          "output_type": "stream",
          "name": "stdout",
          "text": [
            "Epoch 205: train_loss=0.2797 train_acc=90.17 val_loss=0.3925 val_acc=89.07 lr=0.000070\n"
          ]
        },
        {
          "output_type": "stream",
          "name": "stderr",
          "text": [
            "Train Epoch 206: 100%|██████████| 391/391 [00:20<00:00, 19.05it/s, acc=90.2, loss=0.278]\n"
          ]
        },
        {
          "output_type": "stream",
          "name": "stdout",
          "text": [
            "Epoch 206: train_loss=0.2779 train_acc=90.22 val_loss=0.4033 val_acc=89.18 lr=0.000069\n"
          ]
        },
        {
          "output_type": "stream",
          "name": "stderr",
          "text": [
            "Train Epoch 207: 100%|██████████| 391/391 [00:20<00:00, 19.04it/s, acc=90.3, loss=0.276]\n"
          ]
        },
        {
          "output_type": "stream",
          "name": "stdout",
          "text": [
            "Epoch 207: train_loss=0.2762 train_acc=90.27 val_loss=0.4057 val_acc=88.90 lr=0.000068\n"
          ]
        },
        {
          "output_type": "stream",
          "name": "stderr",
          "text": [
            "Train Epoch 208: 100%|██████████| 391/391 [00:20<00:00, 19.21it/s, acc=90.4, loss=0.275]\n"
          ]
        },
        {
          "output_type": "stream",
          "name": "stdout",
          "text": [
            "Epoch 208: train_loss=0.2755 train_acc=90.42 val_loss=0.4084 val_acc=88.90 lr=0.000066\n"
          ]
        },
        {
          "output_type": "stream",
          "name": "stderr",
          "text": [
            "Train Epoch 209: 100%|██████████| 391/391 [00:20<00:00, 19.05it/s, acc=90.4, loss=0.273]\n"
          ]
        },
        {
          "output_type": "stream",
          "name": "stdout",
          "text": [
            "Epoch 209: train_loss=0.2733 train_acc=90.39 val_loss=0.4096 val_acc=89.04 lr=0.000065\n"
          ]
        },
        {
          "output_type": "stream",
          "name": "stderr",
          "text": [
            "Train Epoch 210: 100%|██████████| 391/391 [00:20<00:00, 18.99it/s, acc=90.5, loss=0.271]\n"
          ]
        },
        {
          "output_type": "stream",
          "name": "stdout",
          "text": [
            "Epoch 210: train_loss=0.2708 train_acc=90.50 val_loss=0.4091 val_acc=88.69 lr=0.000064\n"
          ]
        },
        {
          "output_type": "stream",
          "name": "stderr",
          "text": [
            "Train Epoch 211: 100%|██████████| 391/391 [00:20<00:00, 19.02it/s, acc=90.4, loss=0.273]\n"
          ]
        },
        {
          "output_type": "stream",
          "name": "stdout",
          "text": [
            "Epoch 211: train_loss=0.2733 train_acc=90.41 val_loss=0.4055 val_acc=89.21 lr=0.000062\n"
          ]
        },
        {
          "output_type": "stream",
          "name": "stderr",
          "text": [
            "Train Epoch 212: 100%|██████████| 391/391 [00:20<00:00, 19.27it/s, acc=90.3, loss=0.276]\n"
          ]
        },
        {
          "output_type": "stream",
          "name": "stdout",
          "text": [
            "Epoch 212: train_loss=0.2758 train_acc=90.32 val_loss=0.3999 val_acc=89.47 lr=0.000061\n",
            "Saved best model: 89.47\n"
          ]
        },
        {
          "output_type": "stream",
          "name": "stderr",
          "text": [
            "Train Epoch 213: 100%|██████████| 391/391 [00:20<00:00, 19.31it/s, acc=90.5, loss=0.275]\n"
          ]
        },
        {
          "output_type": "stream",
          "name": "stdout",
          "text": [
            "Epoch 213: train_loss=0.2746 train_acc=90.51 val_loss=0.3968 val_acc=89.17 lr=0.000060\n"
          ]
        },
        {
          "output_type": "stream",
          "name": "stderr",
          "text": [
            "Train Epoch 214: 100%|██████████| 391/391 [00:20<00:00, 19.28it/s, acc=90.9, loss=0.266]\n"
          ]
        },
        {
          "output_type": "stream",
          "name": "stdout",
          "text": [
            "Epoch 214: train_loss=0.2659 train_acc=90.90 val_loss=0.3983 val_acc=89.45 lr=0.000059\n"
          ]
        },
        {
          "output_type": "stream",
          "name": "stderr",
          "text": [
            "Train Epoch 215: 100%|██████████| 391/391 [00:20<00:00, 19.31it/s, acc=90.7, loss=0.267]\n"
          ]
        },
        {
          "output_type": "stream",
          "name": "stdout",
          "text": [
            "Epoch 215: train_loss=0.2674 train_acc=90.65 val_loss=0.3972 val_acc=89.20 lr=0.000057\n"
          ]
        },
        {
          "output_type": "stream",
          "name": "stderr",
          "text": [
            "Train Epoch 216: 100%|██████████| 391/391 [00:20<00:00, 19.26it/s, acc=90.8, loss=0.264]\n"
          ]
        },
        {
          "output_type": "stream",
          "name": "stdout",
          "text": [
            "Epoch 216: train_loss=0.2641 train_acc=90.82 val_loss=0.3983 val_acc=89.19 lr=0.000056\n"
          ]
        },
        {
          "output_type": "stream",
          "name": "stderr",
          "text": [
            "Train Epoch 217: 100%|██████████| 391/391 [00:20<00:00, 19.20it/s, acc=90.5, loss=0.27]\n"
          ]
        },
        {
          "output_type": "stream",
          "name": "stdout",
          "text": [
            "Epoch 217: train_loss=0.2705 train_acc=90.54 val_loss=0.3848 val_acc=89.64 lr=0.000055\n",
            "Saved best model: 89.64\n"
          ]
        },
        {
          "output_type": "stream",
          "name": "stderr",
          "text": [
            "Train Epoch 218: 100%|██████████| 391/391 [00:20<00:00, 19.15it/s, acc=90.5, loss=0.271]\n"
          ]
        },
        {
          "output_type": "stream",
          "name": "stdout",
          "text": [
            "Epoch 218: train_loss=0.2712 train_acc=90.47 val_loss=0.4042 val_acc=89.10 lr=0.000054\n"
          ]
        },
        {
          "output_type": "stream",
          "name": "stderr",
          "text": [
            "Train Epoch 219: 100%|██████████| 391/391 [00:20<00:00, 19.11it/s, acc=90.7, loss=0.266]\n"
          ]
        },
        {
          "output_type": "stream",
          "name": "stdout",
          "text": [
            "Epoch 219: train_loss=0.2656 train_acc=90.65 val_loss=0.3986 val_acc=89.27 lr=0.000052\n"
          ]
        },
        {
          "output_type": "stream",
          "name": "stderr",
          "text": [
            "Train Epoch 220: 100%|██████████| 391/391 [00:20<00:00, 19.12it/s, acc=90.9, loss=0.262]\n"
          ]
        },
        {
          "output_type": "stream",
          "name": "stdout",
          "text": [
            "Epoch 220: train_loss=0.2623 train_acc=90.88 val_loss=0.3943 val_acc=89.54 lr=0.000051\n"
          ]
        },
        {
          "output_type": "stream",
          "name": "stderr",
          "text": [
            "Train Epoch 221: 100%|██████████| 391/391 [00:20<00:00, 18.73it/s, acc=90.9, loss=0.262]\n"
          ]
        },
        {
          "output_type": "stream",
          "name": "stdout",
          "text": [
            "Epoch 221: train_loss=0.2622 train_acc=90.93 val_loss=0.3916 val_acc=90.08 lr=0.000050\n",
            "Saved best model: 90.08\n"
          ]
        },
        {
          "output_type": "stream",
          "name": "stderr",
          "text": [
            "Train Epoch 222: 100%|██████████| 391/391 [00:20<00:00, 19.40it/s, acc=90.9, loss=0.263]\n"
          ]
        },
        {
          "output_type": "stream",
          "name": "stdout",
          "text": [
            "Epoch 222: train_loss=0.2625 train_acc=90.88 val_loss=0.4077 val_acc=89.38 lr=0.000049\n"
          ]
        },
        {
          "output_type": "stream",
          "name": "stderr",
          "text": [
            "Train Epoch 223: 100%|██████████| 391/391 [00:20<00:00, 19.18it/s, acc=91.2, loss=0.252]\n"
          ]
        },
        {
          "output_type": "stream",
          "name": "stdout",
          "text": [
            "Epoch 223: train_loss=0.2519 train_acc=91.17 val_loss=0.4070 val_acc=89.16 lr=0.000048\n"
          ]
        },
        {
          "output_type": "stream",
          "name": "stderr",
          "text": [
            "Train Epoch 224: 100%|██████████| 391/391 [00:20<00:00, 19.05it/s, acc=91, loss=0.257]\n"
          ]
        },
        {
          "output_type": "stream",
          "name": "stdout",
          "text": [
            "Epoch 224: train_loss=0.2565 train_acc=91.02 val_loss=0.4028 val_acc=89.39 lr=0.000047\n"
          ]
        },
        {
          "output_type": "stream",
          "name": "stderr",
          "text": [
            "Train Epoch 225: 100%|██████████| 391/391 [00:20<00:00, 18.97it/s, acc=91.1, loss=0.258]\n"
          ]
        },
        {
          "output_type": "stream",
          "name": "stdout",
          "text": [
            "Epoch 225: train_loss=0.2576 train_acc=91.09 val_loss=0.4028 val_acc=89.30 lr=0.000045\n"
          ]
        },
        {
          "output_type": "stream",
          "name": "stderr",
          "text": [
            "Train Epoch 226: 100%|██████████| 391/391 [00:20<00:00, 19.06it/s, acc=91, loss=0.259]\n"
          ]
        },
        {
          "output_type": "stream",
          "name": "stdout",
          "text": [
            "Epoch 226: train_loss=0.2586 train_acc=90.99 val_loss=0.4011 val_acc=89.57 lr=0.000044\n"
          ]
        },
        {
          "output_type": "stream",
          "name": "stderr",
          "text": [
            "Train Epoch 227: 100%|██████████| 391/391 [00:20<00:00, 19.24it/s, acc=91.1, loss=0.254]\n"
          ]
        },
        {
          "output_type": "stream",
          "name": "stdout",
          "text": [
            "Epoch 227: train_loss=0.2542 train_acc=91.11 val_loss=0.3969 val_acc=89.42 lr=0.000043\n"
          ]
        },
        {
          "output_type": "stream",
          "name": "stderr",
          "text": [
            "Train Epoch 228: 100%|██████████| 391/391 [00:20<00:00, 19.28it/s, acc=91.1, loss=0.254]\n"
          ]
        },
        {
          "output_type": "stream",
          "name": "stdout",
          "text": [
            "Epoch 228: train_loss=0.2544 train_acc=91.13 val_loss=0.4025 val_acc=89.74 lr=0.000042\n"
          ]
        },
        {
          "output_type": "stream",
          "name": "stderr",
          "text": [
            "Train Epoch 229: 100%|██████████| 391/391 [00:20<00:00, 19.04it/s, acc=91.3, loss=0.251]\n"
          ]
        },
        {
          "output_type": "stream",
          "name": "stdout",
          "text": [
            "Epoch 229: train_loss=0.2507 train_acc=91.35 val_loss=0.3943 val_acc=89.51 lr=0.000041\n"
          ]
        },
        {
          "output_type": "stream",
          "name": "stderr",
          "text": [
            "Train Epoch 230: 100%|██████████| 391/391 [00:20<00:00, 18.85it/s, acc=91.1, loss=0.254]\n"
          ]
        },
        {
          "output_type": "stream",
          "name": "stdout",
          "text": [
            "Epoch 230: train_loss=0.2541 train_acc=91.11 val_loss=0.4064 val_acc=89.28 lr=0.000040\n"
          ]
        },
        {
          "output_type": "stream",
          "name": "stderr",
          "text": [
            "Train Epoch 231: 100%|██████████| 391/391 [00:20<00:00, 18.92it/s, acc=91.4, loss=0.245]\n"
          ]
        },
        {
          "output_type": "stream",
          "name": "stdout",
          "text": [
            "Epoch 231: train_loss=0.2454 train_acc=91.41 val_loss=0.3964 val_acc=89.49 lr=0.000039\n"
          ]
        },
        {
          "output_type": "stream",
          "name": "stderr",
          "text": [
            "Train Epoch 232: 100%|██████████| 391/391 [00:20<00:00, 19.27it/s, acc=91.2, loss=0.252]\n"
          ]
        },
        {
          "output_type": "stream",
          "name": "stdout",
          "text": [
            "Epoch 232: train_loss=0.2519 train_acc=91.25 val_loss=0.3933 val_acc=89.65 lr=0.000038\n"
          ]
        },
        {
          "output_type": "stream",
          "name": "stderr",
          "text": [
            "Train Epoch 233: 100%|██████████| 391/391 [00:20<00:00, 19.21it/s, acc=91.4, loss=0.25]\n"
          ]
        },
        {
          "output_type": "stream",
          "name": "stdout",
          "text": [
            "Epoch 233: train_loss=0.2502 train_acc=91.40 val_loss=0.4048 val_acc=89.61 lr=0.000037\n"
          ]
        },
        {
          "output_type": "stream",
          "name": "stderr",
          "text": [
            "Train Epoch 234: 100%|██████████| 391/391 [00:20<00:00, 19.12it/s, acc=91.3, loss=0.25]\n"
          ]
        },
        {
          "output_type": "stream",
          "name": "stdout",
          "text": [
            "Epoch 234: train_loss=0.2500 train_acc=91.30 val_loss=0.4083 val_acc=89.19 lr=0.000036\n"
          ]
        },
        {
          "output_type": "stream",
          "name": "stderr",
          "text": [
            "Train Epoch 235: 100%|██████████| 391/391 [00:20<00:00, 19.10it/s, acc=91.7, loss=0.239]\n"
          ]
        },
        {
          "output_type": "stream",
          "name": "stdout",
          "text": [
            "Epoch 235: train_loss=0.2391 train_acc=91.69 val_loss=0.4014 val_acc=89.57 lr=0.000035\n"
          ]
        },
        {
          "output_type": "stream",
          "name": "stderr",
          "text": [
            "Train Epoch 236: 100%|██████████| 391/391 [00:20<00:00, 18.80it/s, acc=91.4, loss=0.247]\n"
          ]
        },
        {
          "output_type": "stream",
          "name": "stdout",
          "text": [
            "Epoch 236: train_loss=0.2467 train_acc=91.41 val_loss=0.3935 val_acc=89.66 lr=0.000034\n"
          ]
        },
        {
          "output_type": "stream",
          "name": "stderr",
          "text": [
            "Train Epoch 237: 100%|██████████| 391/391 [00:20<00:00, 19.08it/s, acc=91.4, loss=0.245]\n"
          ]
        },
        {
          "output_type": "stream",
          "name": "stdout",
          "text": [
            "Epoch 237: train_loss=0.2448 train_acc=91.40 val_loss=0.4107 val_acc=89.41 lr=0.000033\n"
          ]
        },
        {
          "output_type": "stream",
          "name": "stderr",
          "text": [
            "Train Epoch 238: 100%|██████████| 391/391 [00:20<00:00, 18.84it/s, acc=91.4, loss=0.244]\n"
          ]
        },
        {
          "output_type": "stream",
          "name": "stdout",
          "text": [
            "Epoch 238: train_loss=0.2440 train_acc=91.45 val_loss=0.4025 val_acc=89.52 lr=0.000032\n"
          ]
        },
        {
          "output_type": "stream",
          "name": "stderr",
          "text": [
            "Train Epoch 239: 100%|██████████| 391/391 [00:20<00:00, 18.90it/s, acc=91.6, loss=0.239]\n"
          ]
        },
        {
          "output_type": "stream",
          "name": "stdout",
          "text": [
            "Epoch 239: train_loss=0.2390 train_acc=91.58 val_loss=0.4061 val_acc=89.69 lr=0.000031\n"
          ]
        },
        {
          "output_type": "stream",
          "name": "stderr",
          "text": [
            "Train Epoch 240: 100%|██████████| 391/391 [00:20<00:00, 19.01it/s, acc=91.7, loss=0.239]\n"
          ]
        },
        {
          "output_type": "stream",
          "name": "stdout",
          "text": [
            "Epoch 240: train_loss=0.2393 train_acc=91.70 val_loss=0.3981 val_acc=89.41 lr=0.000030\n"
          ]
        },
        {
          "output_type": "stream",
          "name": "stderr",
          "text": [
            "Train Epoch 241: 100%|██████████| 391/391 [00:20<00:00, 19.30it/s, acc=91.6, loss=0.242]\n"
          ]
        },
        {
          "output_type": "stream",
          "name": "stdout",
          "text": [
            "Epoch 241: train_loss=0.2417 train_acc=91.64 val_loss=0.3978 val_acc=89.49 lr=0.000029\n"
          ]
        },
        {
          "output_type": "stream",
          "name": "stderr",
          "text": [
            "Train Epoch 242: 100%|██████████| 391/391 [00:20<00:00, 19.01it/s, acc=91.6, loss=0.244]\n"
          ]
        },
        {
          "output_type": "stream",
          "name": "stdout",
          "text": [
            "Epoch 242: train_loss=0.2438 train_acc=91.61 val_loss=0.3905 val_acc=89.76 lr=0.000028\n"
          ]
        },
        {
          "output_type": "stream",
          "name": "stderr",
          "text": [
            "Train Epoch 243: 100%|██████████| 391/391 [00:20<00:00, 18.78it/s, acc=91.5, loss=0.24]\n"
          ]
        },
        {
          "output_type": "stream",
          "name": "stdout",
          "text": [
            "Epoch 243: train_loss=0.2400 train_acc=91.52 val_loss=0.4071 val_acc=89.47 lr=0.000027\n"
          ]
        },
        {
          "output_type": "stream",
          "name": "stderr",
          "text": [
            "Train Epoch 244: 100%|██████████| 391/391 [00:20<00:00, 19.19it/s, acc=91.6, loss=0.24]\n"
          ]
        },
        {
          "output_type": "stream",
          "name": "stdout",
          "text": [
            "Epoch 244: train_loss=0.2398 train_acc=91.62 val_loss=0.3931 val_acc=89.58 lr=0.000026\n"
          ]
        },
        {
          "output_type": "stream",
          "name": "stderr",
          "text": [
            "Train Epoch 245: 100%|██████████| 391/391 [00:20<00:00, 18.97it/s, acc=91.7, loss=0.235]\n"
          ]
        },
        {
          "output_type": "stream",
          "name": "stdout",
          "text": [
            "Epoch 245: train_loss=0.2354 train_acc=91.74 val_loss=0.4071 val_acc=89.52 lr=0.000025\n"
          ]
        },
        {
          "output_type": "stream",
          "name": "stderr",
          "text": [
            "Train Epoch 246: 100%|██████████| 391/391 [00:20<00:00, 19.49it/s, acc=91.7, loss=0.237]\n"
          ]
        },
        {
          "output_type": "stream",
          "name": "stdout",
          "text": [
            "Epoch 246: train_loss=0.2374 train_acc=91.69 val_loss=0.4000 val_acc=89.83 lr=0.000024\n"
          ]
        },
        {
          "output_type": "stream",
          "name": "stderr",
          "text": [
            "Train Epoch 247: 100%|██████████| 391/391 [00:20<00:00, 19.07it/s, acc=91.7, loss=0.238]\n"
          ]
        },
        {
          "output_type": "stream",
          "name": "stdout",
          "text": [
            "Epoch 247: train_loss=0.2383 train_acc=91.67 val_loss=0.3930 val_acc=89.81 lr=0.000023\n"
          ]
        },
        {
          "output_type": "stream",
          "name": "stderr",
          "text": [
            "Train Epoch 248: 100%|██████████| 391/391 [00:20<00:00, 19.13it/s, acc=91.9, loss=0.236]\n"
          ]
        },
        {
          "output_type": "stream",
          "name": "stdout",
          "text": [
            "Epoch 248: train_loss=0.2359 train_acc=91.86 val_loss=0.4005 val_acc=89.72 lr=0.000022\n"
          ]
        },
        {
          "output_type": "stream",
          "name": "stderr",
          "text": [
            "Train Epoch 249: 100%|██████████| 391/391 [00:20<00:00, 19.25it/s, acc=91.9, loss=0.229]\n"
          ]
        },
        {
          "output_type": "stream",
          "name": "stdout",
          "text": [
            "Epoch 249: train_loss=0.2294 train_acc=91.91 val_loss=0.4071 val_acc=89.73 lr=0.000022\n"
          ]
        },
        {
          "output_type": "stream",
          "name": "stderr",
          "text": [
            "Train Epoch 250: 100%|██████████| 391/391 [00:20<00:00, 19.23it/s, acc=91.9, loss=0.234]\n"
          ]
        },
        {
          "output_type": "stream",
          "name": "stdout",
          "text": [
            "Epoch 250: train_loss=0.2338 train_acc=91.88 val_loss=0.4187 val_acc=89.41 lr=0.000021\n"
          ]
        },
        {
          "output_type": "stream",
          "name": "stderr",
          "text": [
            "Train Epoch 251: 100%|██████████| 391/391 [00:20<00:00, 19.17it/s, acc=92, loss=0.229]\n"
          ]
        },
        {
          "output_type": "stream",
          "name": "stdout",
          "text": [
            "Epoch 251: train_loss=0.2293 train_acc=91.96 val_loss=0.4083 val_acc=89.73 lr=0.000020\n"
          ]
        },
        {
          "output_type": "stream",
          "name": "stderr",
          "text": [
            "Train Epoch 252: 100%|██████████| 391/391 [00:20<00:00, 19.23it/s, acc=91.8, loss=0.236]\n"
          ]
        },
        {
          "output_type": "stream",
          "name": "stdout",
          "text": [
            "Epoch 252: train_loss=0.2357 train_acc=91.80 val_loss=0.4069 val_acc=89.83 lr=0.000019\n"
          ]
        },
        {
          "output_type": "stream",
          "name": "stderr",
          "text": [
            "Train Epoch 253: 100%|██████████| 391/391 [00:20<00:00, 19.37it/s, acc=91.8, loss=0.234]\n"
          ]
        },
        {
          "output_type": "stream",
          "name": "stdout",
          "text": [
            "Epoch 253: train_loss=0.2343 train_acc=91.83 val_loss=0.4007 val_acc=89.87 lr=0.000018\n"
          ]
        },
        {
          "output_type": "stream",
          "name": "stderr",
          "text": [
            "Train Epoch 254: 100%|██████████| 391/391 [00:20<00:00, 19.32it/s, acc=92.1, loss=0.228]\n"
          ]
        },
        {
          "output_type": "stream",
          "name": "stdout",
          "text": [
            "Epoch 254: train_loss=0.2277 train_acc=92.08 val_loss=0.4104 val_acc=89.81 lr=0.000018\n"
          ]
        },
        {
          "output_type": "stream",
          "name": "stderr",
          "text": [
            "Train Epoch 255: 100%|██████████| 391/391 [00:20<00:00, 19.22it/s, acc=92, loss=0.227]\n"
          ]
        },
        {
          "output_type": "stream",
          "name": "stdout",
          "text": [
            "Epoch 255: train_loss=0.2275 train_acc=92.00 val_loss=0.4035 val_acc=89.79 lr=0.000017\n"
          ]
        },
        {
          "output_type": "stream",
          "name": "stderr",
          "text": [
            "Train Epoch 256: 100%|██████████| 391/391 [00:20<00:00, 19.14it/s, acc=91.9, loss=0.232]\n"
          ]
        },
        {
          "output_type": "stream",
          "name": "stdout",
          "text": [
            "Epoch 256: train_loss=0.2319 train_acc=91.93 val_loss=0.3967 val_acc=89.93 lr=0.000016\n"
          ]
        },
        {
          "output_type": "stream",
          "name": "stderr",
          "text": [
            "Train Epoch 257: 100%|██████████| 391/391 [00:20<00:00, 19.28it/s, acc=92, loss=0.227]\n"
          ]
        },
        {
          "output_type": "stream",
          "name": "stdout",
          "text": [
            "Epoch 257: train_loss=0.2270 train_acc=92.03 val_loss=0.4066 val_acc=89.77 lr=0.000015\n"
          ]
        },
        {
          "output_type": "stream",
          "name": "stderr",
          "text": [
            "Train Epoch 258: 100%|██████████| 391/391 [00:20<00:00, 19.22it/s, acc=92, loss=0.228]\n"
          ]
        },
        {
          "output_type": "stream",
          "name": "stdout",
          "text": [
            "Epoch 258: train_loss=0.2279 train_acc=92.04 val_loss=0.4003 val_acc=89.79 lr=0.000015\n"
          ]
        },
        {
          "output_type": "stream",
          "name": "stderr",
          "text": [
            "Train Epoch 259: 100%|██████████| 391/391 [00:20<00:00, 18.87it/s, acc=92.1, loss=0.228]\n"
          ]
        },
        {
          "output_type": "stream",
          "name": "stdout",
          "text": [
            "Epoch 259: train_loss=0.2276 train_acc=92.05 val_loss=0.4038 val_acc=89.75 lr=0.000014\n"
          ]
        },
        {
          "output_type": "stream",
          "name": "stderr",
          "text": [
            "Train Epoch 260: 100%|██████████| 391/391 [00:20<00:00, 19.20it/s, acc=92.1, loss=0.225]\n"
          ]
        },
        {
          "output_type": "stream",
          "name": "stdout",
          "text": [
            "Epoch 260: train_loss=0.2247 train_acc=92.10 val_loss=0.3966 val_acc=89.92 lr=0.000013\n"
          ]
        },
        {
          "output_type": "stream",
          "name": "stderr",
          "text": [
            "Train Epoch 261: 100%|██████████| 391/391 [00:20<00:00, 18.98it/s, acc=92.2, loss=0.224]\n"
          ]
        },
        {
          "output_type": "stream",
          "name": "stdout",
          "text": [
            "Epoch 261: train_loss=0.2239 train_acc=92.21 val_loss=0.4069 val_acc=89.57 lr=0.000013\n"
          ]
        },
        {
          "output_type": "stream",
          "name": "stderr",
          "text": [
            "Train Epoch 262: 100%|██████████| 391/391 [00:20<00:00, 19.24it/s, acc=92.3, loss=0.225]\n"
          ]
        },
        {
          "output_type": "stream",
          "name": "stdout",
          "text": [
            "Epoch 262: train_loss=0.2254 train_acc=92.26 val_loss=0.4063 val_acc=89.79 lr=0.000012\n"
          ]
        },
        {
          "output_type": "stream",
          "name": "stderr",
          "text": [
            "Train Epoch 263: 100%|██████████| 391/391 [00:20<00:00, 18.65it/s, acc=92, loss=0.225]\n"
          ]
        },
        {
          "output_type": "stream",
          "name": "stdout",
          "text": [
            "Epoch 263: train_loss=0.2251 train_acc=92.05 val_loss=0.4024 val_acc=89.85 lr=0.000011\n"
          ]
        },
        {
          "output_type": "stream",
          "name": "stderr",
          "text": [
            "Train Epoch 264: 100%|██████████| 391/391 [00:20<00:00, 19.13it/s, acc=92.1, loss=0.227]\n"
          ]
        },
        {
          "output_type": "stream",
          "name": "stdout",
          "text": [
            "Epoch 264: train_loss=0.2274 train_acc=92.14 val_loss=0.4054 val_acc=89.86 lr=0.000011\n"
          ]
        },
        {
          "output_type": "stream",
          "name": "stderr",
          "text": [
            "Train Epoch 265: 100%|██████████| 391/391 [00:20<00:00, 18.93it/s, acc=92.2, loss=0.225]\n"
          ]
        },
        {
          "output_type": "stream",
          "name": "stdout",
          "text": [
            "Epoch 265: train_loss=0.2247 train_acc=92.20 val_loss=0.3983 val_acc=89.99 lr=0.000010\n"
          ]
        },
        {
          "output_type": "stream",
          "name": "stderr",
          "text": [
            "Train Epoch 266: 100%|██████████| 391/391 [00:20<00:00, 18.82it/s, acc=92.3, loss=0.221]\n"
          ]
        },
        {
          "output_type": "stream",
          "name": "stdout",
          "text": [
            "Epoch 266: train_loss=0.2212 train_acc=92.33 val_loss=0.3975 val_acc=89.97 lr=0.000010\n"
          ]
        },
        {
          "output_type": "stream",
          "name": "stderr",
          "text": [
            "Train Epoch 267: 100%|██████████| 391/391 [00:20<00:00, 18.82it/s, acc=92.1, loss=0.226]\n"
          ]
        },
        {
          "output_type": "stream",
          "name": "stdout",
          "text": [
            "Epoch 267: train_loss=0.2257 train_acc=92.10 val_loss=0.3967 val_acc=89.81 lr=0.000009\n"
          ]
        },
        {
          "output_type": "stream",
          "name": "stderr",
          "text": [
            "Train Epoch 268: 100%|██████████| 391/391 [00:20<00:00, 18.78it/s, acc=92.1, loss=0.226]\n"
          ]
        },
        {
          "output_type": "stream",
          "name": "stdout",
          "text": [
            "Epoch 268: train_loss=0.2263 train_acc=92.13 val_loss=0.4007 val_acc=90.09 lr=0.000009\n",
            "Saved best model: 90.09\n"
          ]
        },
        {
          "output_type": "stream",
          "name": "stderr",
          "text": [
            "Train Epoch 269: 100%|██████████| 391/391 [00:20<00:00, 18.98it/s, acc=92.2, loss=0.225]\n"
          ]
        },
        {
          "output_type": "stream",
          "name": "stdout",
          "text": [
            "Epoch 269: train_loss=0.2250 train_acc=92.17 val_loss=0.3979 val_acc=89.90 lr=0.000008\n"
          ]
        },
        {
          "output_type": "stream",
          "name": "stderr",
          "text": [
            "Train Epoch 270: 100%|██████████| 391/391 [00:20<00:00, 19.12it/s, acc=92, loss=0.229]\n"
          ]
        },
        {
          "output_type": "stream",
          "name": "stdout",
          "text": [
            "Epoch 270: train_loss=0.2288 train_acc=92.00 val_loss=0.4042 val_acc=89.93 lr=0.000008\n"
          ]
        },
        {
          "output_type": "stream",
          "name": "stderr",
          "text": [
            "Train Epoch 271: 100%|██████████| 391/391 [00:20<00:00, 19.13it/s, acc=92.2, loss=0.223]\n"
          ]
        },
        {
          "output_type": "stream",
          "name": "stdout",
          "text": [
            "Epoch 271: train_loss=0.2229 train_acc=92.19 val_loss=0.4003 val_acc=89.90 lr=0.000007\n"
          ]
        },
        {
          "output_type": "stream",
          "name": "stderr",
          "text": [
            "Train Epoch 272: 100%|██████████| 391/391 [00:21<00:00, 18.34it/s, acc=92.1, loss=0.225]\n"
          ]
        },
        {
          "output_type": "stream",
          "name": "stdout",
          "text": [
            "Epoch 272: train_loss=0.2249 train_acc=92.12 val_loss=0.4025 val_acc=89.92 lr=0.000007\n"
          ]
        },
        {
          "output_type": "stream",
          "name": "stderr",
          "text": [
            "Train Epoch 273: 100%|██████████| 391/391 [00:20<00:00, 19.07it/s, acc=92.3, loss=0.223]\n"
          ]
        },
        {
          "output_type": "stream",
          "name": "stdout",
          "text": [
            "Epoch 273: train_loss=0.2225 train_acc=92.28 val_loss=0.4014 val_acc=89.90 lr=0.000006\n"
          ]
        },
        {
          "output_type": "stream",
          "name": "stderr",
          "text": [
            "Train Epoch 274: 100%|██████████| 391/391 [00:20<00:00, 19.14it/s, acc=92.2, loss=0.224]\n"
          ]
        },
        {
          "output_type": "stream",
          "name": "stdout",
          "text": [
            "Epoch 274: train_loss=0.2238 train_acc=92.19 val_loss=0.4039 val_acc=89.83 lr=0.000006\n"
          ]
        },
        {
          "output_type": "stream",
          "name": "stderr",
          "text": [
            "Train Epoch 275: 100%|██████████| 391/391 [00:20<00:00, 19.10it/s, acc=92.4, loss=0.222]\n"
          ]
        },
        {
          "output_type": "stream",
          "name": "stdout",
          "text": [
            "Epoch 275: train_loss=0.2220 train_acc=92.42 val_loss=0.4086 val_acc=89.84 lr=0.000005\n"
          ]
        },
        {
          "output_type": "stream",
          "name": "stderr",
          "text": [
            "Train Epoch 276: 100%|██████████| 391/391 [00:20<00:00, 19.40it/s, acc=92.5, loss=0.219]\n"
          ]
        },
        {
          "output_type": "stream",
          "name": "stdout",
          "text": [
            "Epoch 276: train_loss=0.2195 train_acc=92.45 val_loss=0.4063 val_acc=90.10 lr=0.000005\n",
            "Saved best model: 90.1\n"
          ]
        },
        {
          "output_type": "stream",
          "name": "stderr",
          "text": [
            "Train Epoch 277: 100%|██████████| 391/391 [00:20<00:00, 19.37it/s, acc=92.4, loss=0.221]\n"
          ]
        },
        {
          "output_type": "stream",
          "name": "stdout",
          "text": [
            "Epoch 277: train_loss=0.2209 train_acc=92.41 val_loss=0.3999 val_acc=90.08 lr=0.000004\n"
          ]
        },
        {
          "output_type": "stream",
          "name": "stderr",
          "text": [
            "Train Epoch 278: 100%|██████████| 391/391 [00:20<00:00, 19.21it/s, acc=92.3, loss=0.22]\n"
          ]
        },
        {
          "output_type": "stream",
          "name": "stdout",
          "text": [
            "Epoch 278: train_loss=0.2203 train_acc=92.26 val_loss=0.4018 val_acc=89.96 lr=0.000004\n"
          ]
        },
        {
          "output_type": "stream",
          "name": "stderr",
          "text": [
            "Train Epoch 279: 100%|██████████| 391/391 [00:20<00:00, 19.37it/s, acc=92.5, loss=0.219]\n"
          ]
        },
        {
          "output_type": "stream",
          "name": "stdout",
          "text": [
            "Epoch 279: train_loss=0.2185 train_acc=92.49 val_loss=0.4020 val_acc=90.06 lr=0.000004\n"
          ]
        },
        {
          "output_type": "stream",
          "name": "stderr",
          "text": [
            "Train Epoch 280: 100%|██████████| 391/391 [00:20<00:00, 19.10it/s, acc=92.4, loss=0.219]\n"
          ]
        },
        {
          "output_type": "stream",
          "name": "stdout",
          "text": [
            "Epoch 280: train_loss=0.2194 train_acc=92.35 val_loss=0.4048 val_acc=90.05 lr=0.000003\n"
          ]
        },
        {
          "output_type": "stream",
          "name": "stderr",
          "text": [
            "Train Epoch 281: 100%|██████████| 391/391 [00:20<00:00, 19.04it/s, acc=92.3, loss=0.221]\n"
          ]
        },
        {
          "output_type": "stream",
          "name": "stdout",
          "text": [
            "Epoch 281: train_loss=0.2206 train_acc=92.30 val_loss=0.4063 val_acc=89.90 lr=0.000003\n"
          ]
        },
        {
          "output_type": "stream",
          "name": "stderr",
          "text": [
            "Train Epoch 282: 100%|██████████| 391/391 [00:20<00:00, 19.25it/s, acc=92.2, loss=0.223]\n"
          ]
        },
        {
          "output_type": "stream",
          "name": "stdout",
          "text": [
            "Epoch 282: train_loss=0.2233 train_acc=92.25 val_loss=0.4038 val_acc=89.88 lr=0.000003\n"
          ]
        },
        {
          "output_type": "stream",
          "name": "stderr",
          "text": [
            "Train Epoch 283: 100%|██████████| 391/391 [00:20<00:00, 19.51it/s, acc=92.4, loss=0.221]\n"
          ]
        },
        {
          "output_type": "stream",
          "name": "stdout",
          "text": [
            "Epoch 283: train_loss=0.2209 train_acc=92.38 val_loss=0.4005 val_acc=90.03 lr=0.000002\n"
          ]
        },
        {
          "output_type": "stream",
          "name": "stderr",
          "text": [
            "Train Epoch 284: 100%|██████████| 391/391 [00:20<00:00, 19.21it/s, acc=92.5, loss=0.217]\n"
          ]
        },
        {
          "output_type": "stream",
          "name": "stdout",
          "text": [
            "Epoch 284: train_loss=0.2173 train_acc=92.46 val_loss=0.4023 val_acc=90.02 lr=0.000002\n"
          ]
        },
        {
          "output_type": "stream",
          "name": "stderr",
          "text": [
            "Train Epoch 285: 100%|██████████| 391/391 [00:20<00:00, 19.23it/s, acc=92.3, loss=0.224]\n"
          ]
        },
        {
          "output_type": "stream",
          "name": "stdout",
          "text": [
            "Epoch 285: train_loss=0.2236 train_acc=92.27 val_loss=0.4017 val_acc=89.96 lr=0.000002\n"
          ]
        },
        {
          "output_type": "stream",
          "name": "stderr",
          "text": [
            "Train Epoch 286: 100%|██████████| 391/391 [00:20<00:00, 19.36it/s, acc=92.3, loss=0.222]\n"
          ]
        },
        {
          "output_type": "stream",
          "name": "stdout",
          "text": [
            "Epoch 286: train_loss=0.2219 train_acc=92.29 val_loss=0.4008 val_acc=90.01 lr=0.000002\n"
          ]
        },
        {
          "output_type": "stream",
          "name": "stderr",
          "text": [
            "Train Epoch 287: 100%|██████████| 391/391 [00:20<00:00, 19.08it/s, acc=92.2, loss=0.224]\n"
          ]
        },
        {
          "output_type": "stream",
          "name": "stdout",
          "text": [
            "Epoch 287: train_loss=0.2240 train_acc=92.22 val_loss=0.4004 val_acc=90.02 lr=0.000001\n"
          ]
        },
        {
          "output_type": "stream",
          "name": "stderr",
          "text": [
            "Train Epoch 288: 100%|██████████| 391/391 [00:20<00:00, 19.27it/s, acc=92.3, loss=0.221]\n"
          ]
        },
        {
          "output_type": "stream",
          "name": "stdout",
          "text": [
            "Epoch 288: train_loss=0.2212 train_acc=92.33 val_loss=0.4009 val_acc=90.04 lr=0.000001\n"
          ]
        },
        {
          "output_type": "stream",
          "name": "stderr",
          "text": [
            "Train Epoch 289: 100%|██████████| 391/391 [00:20<00:00, 19.03it/s, acc=92.5, loss=0.215]\n"
          ]
        },
        {
          "output_type": "stream",
          "name": "stdout",
          "text": [
            "Epoch 289: train_loss=0.2152 train_acc=92.49 val_loss=0.4019 val_acc=90.01 lr=0.000001\n"
          ]
        },
        {
          "output_type": "stream",
          "name": "stderr",
          "text": [
            "Train Epoch 290: 100%|██████████| 391/391 [00:20<00:00, 19.10it/s, acc=92.5, loss=0.215]\n"
          ]
        },
        {
          "output_type": "stream",
          "name": "stdout",
          "text": [
            "Epoch 290: train_loss=0.2152 train_acc=92.51 val_loss=0.4030 val_acc=89.89 lr=0.000001\n"
          ]
        },
        {
          "output_type": "stream",
          "name": "stderr",
          "text": [
            "Train Epoch 291: 100%|██████████| 391/391 [00:20<00:00, 18.96it/s, acc=92.3, loss=0.218]\n"
          ]
        },
        {
          "output_type": "stream",
          "name": "stdout",
          "text": [
            "Epoch 291: train_loss=0.2179 train_acc=92.31 val_loss=0.4019 val_acc=89.99 lr=0.000001\n"
          ]
        },
        {
          "output_type": "stream",
          "name": "stderr",
          "text": [
            "Train Epoch 292: 100%|██████████| 391/391 [00:20<00:00, 19.31it/s, acc=92.4, loss=0.219]\n"
          ]
        },
        {
          "output_type": "stream",
          "name": "stdout",
          "text": [
            "Epoch 292: train_loss=0.2186 train_acc=92.42 val_loss=0.4022 val_acc=89.99 lr=0.000001\n"
          ]
        },
        {
          "output_type": "stream",
          "name": "stderr",
          "text": [
            "Train Epoch 293: 100%|██████████| 391/391 [00:20<00:00, 19.14it/s, acc=92.3, loss=0.22]\n"
          ]
        },
        {
          "output_type": "stream",
          "name": "stdout",
          "text": [
            "Epoch 293: train_loss=0.2203 train_acc=92.34 val_loss=0.4018 val_acc=89.98 lr=0.000000\n"
          ]
        },
        {
          "output_type": "stream",
          "name": "stderr",
          "text": [
            "Train Epoch 294: 100%|██████████| 391/391 [00:20<00:00, 19.04it/s, acc=92.4, loss=0.218]\n"
          ]
        },
        {
          "output_type": "stream",
          "name": "stdout",
          "text": [
            "Epoch 294: train_loss=0.2175 train_acc=92.45 val_loss=0.4018 val_acc=89.97 lr=0.000000\n"
          ]
        },
        {
          "output_type": "stream",
          "name": "stderr",
          "text": [
            "Train Epoch 295: 100%|██████████| 391/391 [00:20<00:00, 19.07it/s, acc=92.8, loss=0.21]\n"
          ]
        },
        {
          "output_type": "stream",
          "name": "stdout",
          "text": [
            "Epoch 295: train_loss=0.2097 train_acc=92.80 val_loss=0.4018 val_acc=89.95 lr=0.000000\n"
          ]
        },
        {
          "output_type": "stream",
          "name": "stderr",
          "text": [
            "Train Epoch 296: 100%|██████████| 391/391 [00:20<00:00, 19.12it/s, acc=92.6, loss=0.213]\n"
          ]
        },
        {
          "output_type": "stream",
          "name": "stdout",
          "text": [
            "Epoch 296: train_loss=0.2132 train_acc=92.63 val_loss=0.4019 val_acc=89.96 lr=0.000000\n"
          ]
        },
        {
          "output_type": "stream",
          "name": "stderr",
          "text": [
            "Train Epoch 297: 100%|██████████| 391/391 [00:20<00:00, 19.17it/s, acc=92.4, loss=0.216]\n"
          ]
        },
        {
          "output_type": "stream",
          "name": "stdout",
          "text": [
            "Epoch 297: train_loss=0.2158 train_acc=92.44 val_loss=0.4018 val_acc=89.96 lr=0.000000\n"
          ]
        },
        {
          "output_type": "stream",
          "name": "stderr",
          "text": [
            "Train Epoch 298: 100%|██████████| 391/391 [00:20<00:00, 19.52it/s, acc=92.4, loss=0.219]\n"
          ]
        },
        {
          "output_type": "stream",
          "name": "stdout",
          "text": [
            "Epoch 298: train_loss=0.2186 train_acc=92.37 val_loss=0.4018 val_acc=89.96 lr=0.000000\n"
          ]
        },
        {
          "output_type": "stream",
          "name": "stderr",
          "text": [
            "Train Epoch 299: 100%|██████████| 391/391 [00:20<00:00, 19.21it/s, acc=92.1, loss=0.221]\n"
          ]
        },
        {
          "output_type": "stream",
          "name": "stdout",
          "text": [
            "Epoch 299: train_loss=0.2211 train_acc=92.09 val_loss=0.4017 val_acc=89.96 lr=0.000000\n",
            "Best test accuracy: 90.10%\n"
          ]
        }
      ]
    }
  ]
}